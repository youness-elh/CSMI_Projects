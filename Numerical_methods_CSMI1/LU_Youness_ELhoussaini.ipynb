{
 "cells": [
  {
   "cell_type": "markdown",
   "metadata": {},
   "source": [
    "# Partie 1: Format Compressed Sparse Row"
   ]
  },
  {
   "cell_type": "code",
   "execution_count": 813,
   "metadata": {},
   "outputs": [],
   "source": [
    "import numpy as np\n",
    "import scipy as sp\n",
    "import scipy.sparse as spsp\n",
    "\n",
    "np.set_printoptions(precision=4,suppress=True,linewidth=5000)"
   ]
  },
  {
   "cell_type": "code",
   "execution_count": 814,
   "metadata": {},
   "outputs": [],
   "source": [
    "\"\"\"definition de la matrice en csr\"\"\"\n",
    "\n",
    "row = sp.array([0, 0, 1, 2, 2, 2])\n",
    "col = sp.array([0, 2, 2, 0, 1, 2])\n",
    "data = sp.array([1., 2, 3, 4, 5, 6])\n",
    "\n",
    "A = spsp.csr_matrix((data, (row, col)), shape=(3, 3))"
   ]
  },
  {
   "cell_type": "code",
   "execution_count": 825,
   "metadata": {},
   "outputs": [
    {
     "name": "stdout",
     "output_type": "stream",
     "text": [
      "  (0, 0)\t1.0\n",
      "  (0, 2)\t2.0\n",
      "  (1, 2)\t3.0\n",
      "  (2, 0)\t4.0\n",
      "  (2, 1)\t5.0\n",
      "  (2, 2)\t6.0\n"
     ]
    }
   ],
   "source": [
    "print(A)"
   ]
  },
  {
   "cell_type": "code",
   "execution_count": 826,
   "metadata": {},
   "outputs": [
    {
     "data": {
      "text/plain": [
       "<3x3 sparse matrix of type '<class 'numpy.float64'>'\n",
       "\twith 6 stored elements in Compressed Sparse Row format>"
      ]
     },
     "execution_count": 826,
     "metadata": {},
     "output_type": "execute_result"
    }
   ],
   "source": [
    "A"
   ]
  },
  {
   "cell_type": "markdown",
   "metadata": {},
   "source": [
    "## Question 1"
   ]
  },
  {
   "cell_type": "code",
   "execution_count": 827,
   "metadata": {},
   "outputs": [
    {
     "data": {
      "text/plain": [
       "array([1., 2., 3., 4., 5., 6.])"
      ]
     },
     "execution_count": 827,
     "metadata": {},
     "output_type": "execute_result"
    }
   ],
   "source": [
    "\"\"\"les données de la matrices\"\"\"\n",
    "A.data "
   ]
  },
  {
   "cell_type": "code",
   "execution_count": 828,
   "metadata": {},
   "outputs": [
    {
     "data": {
      "text/plain": [
       "array([0, 2, 3, 6], dtype=int32)"
      ]
     },
     "execution_count": 828,
     "metadata": {},
     "output_type": "execute_result"
    }
   ],
   "source": [
    "\"\"\"les indices borne des colonne entre lesquelles il y a des valeur non nulles\"\"\"\n",
    "A.indptr"
   ]
  },
  {
   "cell_type": "code",
   "execution_count": 829,
   "metadata": {},
   "outputs": [
    {
     "data": {
      "text/plain": [
       "array([0, 2, 2, 0, 1, 2], dtype=int32)"
      ]
     },
     "execution_count": 829,
     "metadata": {},
     "output_type": "execute_result"
    }
   ],
   "source": [
    "\"\"\"les indices des colonnes\"\"\"\n",
    "A.indices"
   ]
  },
  {
   "cell_type": "code",
   "execution_count": 830,
   "metadata": {},
   "outputs": [
    {
     "data": {
      "text/plain": [
       "array([[1., 0., 2.],\n",
       "       [0., 0., 3.],\n",
       "       [4., 5., 6.]])"
      ]
     },
     "execution_count": 830,
     "metadata": {},
     "output_type": "execute_result"
    }
   ],
   "source": [
    "\"\"\"la matrice pleine associée\"\"\"\n",
    "A.toarray()"
   ]
  },
  {
   "cell_type": "code",
   "execution_count": 831,
   "metadata": {},
   "outputs": [
    {
     "name": "stdout",
     "output_type": "stream",
     "text": [
      "  (0, 0)\t1.0\n",
      "  (0, 2)\t2.0\n",
      "  (1, 2)\t3.0\n",
      "  (2, 0)\t4.0\n",
      "  (2, 1)\t5.0\n",
      "  (2, 2)\t6.0\n"
     ]
    }
   ],
   "source": [
    "\"\"\"la fonction print affiche que les valeurs non nul\"\"\"\n",
    "print(A)"
   ]
  },
  {
   "cell_type": "markdown",
   "metadata": {},
   "source": [
    "## Question 2"
   ]
  },
  {
   "cell_type": "code",
   "execution_count": 832,
   "metadata": {},
   "outputs": [
    {
     "data": {
      "text/plain": [
       "<1x3 sparse matrix of type '<class 'numpy.float64'>'\n",
       "\twith 2 stored elements in Compressed Sparse Row format>"
      ]
     },
     "execution_count": 832,
     "metadata": {},
     "output_type": "execute_result"
    }
   ],
   "source": [
    "\"\"\"ceci renvoie un objet de type 'numpy.float64'\"\"\"\n",
    "A[0,:]"
   ]
  },
  {
   "cell_type": "code",
   "execution_count": 833,
   "metadata": {},
   "outputs": [
    {
     "data": {
      "text/plain": [
       "dtype('float64')"
      ]
     },
     "execution_count": 833,
     "metadata": {},
     "output_type": "execute_result"
    }
   ],
   "source": [
    "A[0,:].dtype"
   ]
  },
  {
   "cell_type": "code",
   "execution_count": 834,
   "metadata": {},
   "outputs": [
    {
     "name": "stdout",
     "output_type": "stream",
     "text": [
      "  (0, 0)\t1.0\n",
      "  (0, 2)\t2.0\n",
      "Wall time: 1e+03 µs\n"
     ]
    }
   ],
   "source": [
    "%%time\n",
    "\"\"\"ceci renvoie les valeurs non nul dans la premiere ligne\"\"\"\n",
    "print(A[0,:])"
   ]
  },
  {
   "cell_type": "code",
   "execution_count": 835,
   "metadata": {},
   "outputs": [
    {
     "name": "stdout",
     "output_type": "stream",
     "text": [
      "  (0, 0)\t1.0\n",
      "  (2, 0)\t4.0\n",
      "Wall time: 999 µs\n"
     ]
    }
   ],
   "source": [
    "%%time\n",
    "\"\"\" Les valeurs d'une matrice sont stockée d'une manière contigue,\n",
    "en parcourant les lignes avant les colonnes \"\"\"\n",
    "\n",
    "print(A[:,0])"
   ]
  },
  {
   "cell_type": "markdown",
   "metadata": {},
   "source": [
    "## Question 3"
   ]
  },
  {
   "cell_type": "code",
   "execution_count": 836,
   "metadata": {},
   "outputs": [
    {
     "data": {
      "text/plain": [
       "array([[ 2.,  0.,  4.],\n",
       "       [ 0.,  0.,  6.],\n",
       "       [ 8., 10., 12.]])"
      ]
     },
     "execution_count": 836,
     "metadata": {},
     "output_type": "execute_result"
    }
   ],
   "source": [
    "\"\"\"On peut ajouter deux matrices en formats CSR\"\"\"\n",
    "B = A + A\n",
    "\n",
    "B.toarray()"
   ]
  },
  {
   "cell_type": "markdown",
   "metadata": {},
   "source": [
    "## Question 4"
   ]
  },
  {
   "cell_type": "code",
   "execution_count": 837,
   "metadata": {},
   "outputs": [
    {
     "data": {
      "text/plain": [
       "array([0, 2, 3, 6], dtype=int32)"
      ]
     },
     "execution_count": 837,
     "metadata": {},
     "output_type": "execute_result"
    }
   ],
   "source": [
    "\"\"\"indique le nombre de colonnes non nulles entre chaque intervalle && indice des donnees sur A.data\"\"\"\n",
    "A.indptr"
   ]
  },
  {
   "cell_type": "code",
   "execution_count": 838,
   "metadata": {},
   "outputs": [
    {
     "data": {
      "text/plain": [
       "array([0, 2, 2, 0, 1, 2], dtype=int32)"
      ]
     },
     "execution_count": 838,
     "metadata": {},
     "output_type": "execute_result"
    }
   ],
   "source": [
    "\"\"\"indice de colonnes non nulle\"\"\"\n",
    "A.indices"
   ]
  },
  {
   "cell_type": "code",
   "execution_count": 839,
   "metadata": {},
   "outputs": [
    {
     "data": {
      "text/plain": [
       "array([1., 2., 3., 4., 5., 6.])"
      ]
     },
     "execution_count": 839,
     "metadata": {},
     "output_type": "execute_result"
    }
   ],
   "source": [
    "\"\"\"data non nulle\"\"\"\n",
    "A.data"
   ]
  },
  {
   "cell_type": "code",
   "execution_count": 843,
   "metadata": {},
   "outputs": [],
   "source": [
    "c= A[0,:]*[1,1,1]"
   ]
  },
  {
   "cell_type": "code",
   "execution_count": 844,
   "metadata": {},
   "outputs": [],
   "source": [
    "def matvect_multiply(A,b):\n",
    "    \n",
    "    col = A.indptr\n",
    "    row = A.indices\n",
    "    data = A.data\n",
    "\n",
    "    size = b.size\n",
    "    y = np.zeros(size)\n",
    "    \n",
    "    for i in range(size):\n",
    "        cols = range(col[i],col[i+1])\n",
    "        for j in cols:\n",
    "            y[i] += data[j]*b[row[j]]\n",
    "    return y"
   ]
  },
  {
   "cell_type": "code",
   "execution_count": 845,
   "metadata": {},
   "outputs": [],
   "source": [
    "b=np.ones(shape=[3,1])"
   ]
  },
  {
   "cell_type": "code",
   "execution_count": 846,
   "metadata": {},
   "outputs": [
    {
     "name": "stdout",
     "output_type": "stream",
     "text": [
      "Wall time: 0 ns\n"
     ]
    }
   ],
   "source": [
    "%%time\n",
    "\"\"\"test\"\"\"\n",
    "matvect_multiply(A,b)"
   ]
  },
  {
   "cell_type": "code",
   "execution_count": 847,
   "metadata": {},
   "outputs": [
    {
     "name": "stdout",
     "output_type": "stream",
     "text": [
      "Wall time: 0 ns\n"
     ]
    },
    {
     "data": {
      "text/plain": [
       "array([[ 3.],\n",
       "       [ 3.],\n",
       "       [15.]])"
      ]
     },
     "execution_count": 847,
     "metadata": {},
     "output_type": "execute_result"
    }
   ],
   "source": [
    "%time\n",
    "A.dot(b)"
   ]
  },
  {
   "cell_type": "code",
   "execution_count": 848,
   "metadata": {},
   "outputs": [
    {
     "data": {
      "text/plain": [
       "array([[ 3.],\n",
       "       [ 3.],\n",
       "       [15.]])"
      ]
     },
     "execution_count": 848,
     "metadata": {},
     "output_type": "execute_result"
    }
   ],
   "source": [
    "A@b"
   ]
  },
  {
   "cell_type": "code",
   "execution_count": 849,
   "metadata": {},
   "outputs": [],
   "source": [
    "output = matvect_multiply(A,b).reshape([b.size,1])"
   ]
  },
  {
   "cell_type": "code",
   "execution_count": 850,
   "metadata": {},
   "outputs": [
    {
     "data": {
      "text/plain": [
       "array([[ True],\n",
       "       [ True],\n",
       "       [ True]])"
      ]
     },
     "execution_count": 850,
     "metadata": {},
     "output_type": "execute_result"
    }
   ],
   "source": [
    "\"\"\"verification\"\"\"\n",
    "A.dot(b) == A@b"
   ]
  },
  {
   "cell_type": "code",
   "execution_count": 851,
   "metadata": {},
   "outputs": [
    {
     "data": {
      "text/plain": [
       "array([[ True],\n",
       "       [ True],\n",
       "       [ True]])"
      ]
     },
     "execution_count": 851,
     "metadata": {},
     "output_type": "execute_result"
    }
   ],
   "source": [
    "A@b == output"
   ]
  },
  {
   "cell_type": "code",
   "execution_count": 852,
   "metadata": {},
   "outputs": [
    {
     "data": {
      "text/plain": [
       "array([[<3x3 sparse matrix of type '<class 'numpy.float64'>'\n",
       "\twith 6 stored elements in Compressed Sparse Row format>],\n",
       "       [<3x3 sparse matrix of type '<class 'numpy.float64'>'\n",
       "\twith 6 stored elements in Compressed Sparse Row format>],\n",
       "       [<3x3 sparse matrix of type '<class 'numpy.float64'>'\n",
       "\twith 6 stored elements in Compressed Sparse Row format>]], dtype=object)"
      ]
     },
     "execution_count": 852,
     "metadata": {},
     "output_type": "execute_result"
    }
   ],
   "source": [
    "np.dot(A,b)"
   ]
  },
  {
   "cell_type": "markdown",
   "metadata": {},
   "source": [
    "A.dot(b) est equivalente a A@b mais pas à np.dot(A,b) si A est format CSR."
   ]
  },
  {
   "cell_type": "markdown",
   "metadata": {},
   "source": [
    "# Partie 2: Factorisation LU"
   ]
  },
  {
   "cell_type": "markdown",
   "metadata": {},
   "source": [
    "## Question 5"
   ]
  },
  {
   "cell_type": "code",
   "execution_count": 900,
   "metadata": {},
   "outputs": [],
   "source": [
    "def Facto_LU(A,CSR=False):\n",
    "    A=A.toarray()\n",
    "    n= len(A)\n",
    "    for k in range(0,n-1):\n",
    "        for j in range(k+1,n):\n",
    "            if(A[k,k]==0):\n",
    "                print(\"le pivot (\"+str(k)+\",\"+str(k)+\") est nul, une permutation est nessaire!\")\n",
    "            else:\n",
    "                A[j,k] = A[j,k]/A[k,k]\n",
    "                A[j,k+1:n]=A[j,k+1:n] - A[j,k]*A[k,k+1:n]\n",
    "    if CSR:\n",
    "        A= spsp.csr.csr_matrix(A) \n",
    "    return A"
   ]
  },
  {
   "cell_type": "code",
   "execution_count": 901,
   "metadata": {},
   "outputs": [
    {
     "name": "stdout",
     "output_type": "stream",
     "text": [
      "La difference entre la factorisation LU scipy et celle obetenue par l'algo est: \n",
      " \n",
      " [[0. 0. 0.]\n",
      " [0. 0. 0.]\n",
      " [0. 0. 0.]]\n"
     ]
    }
   ],
   "source": [
    "\"\"\"test\"\"\"\n",
    "from scipy.linalg import lu_factor\n",
    "n = 3\n",
    "A = spsp.diags([-np.ones(n-1),2*np.ones(n),-np.ones(n-1)],[-1,0,1])\n",
    "out = lu_factor(A.toarray())\n",
    "print(\"La difference entre la factorisation LU scipy et celle obetenue par l'algo est: \\n \\n\", out[0]-Facto_LU(A))"
   ]
  },
  {
   "cell_type": "code",
   "execution_count": 906,
   "metadata": {},
   "outputs": [
    {
     "name": "stdout",
     "output_type": "stream",
     "text": [
      "<class 'scipy.sparse.dia.dia_matrix'>\n"
     ]
    }
   ],
   "source": [
    "\"\"\"Le type de A est en dia\"\"\"\n",
    "print(type(A)) #il faut faire une conversion en csr"
   ]
  },
  {
   "cell_type": "code",
   "execution_count": 907,
   "metadata": {},
   "outputs": [
    {
     "name": "stdout",
     "output_type": "stream",
     "text": [
      "<class 'scipy.sparse.csr.csr_matrix'>\n"
     ]
    }
   ],
   "source": [
    "\"\"\"On doit le mettre en csr pour que ca soit adapté avec l'algo\"\"\"\n",
    "A=spsp.csr.csr_matrix(A)\n",
    "print(type(A))"
   ]
  },
  {
   "cell_type": "code",
   "execution_count": 908,
   "metadata": {},
   "outputs": [
    {
     "name": "stdout",
     "output_type": "stream",
     "text": [
      "  (0, 0)\t2.0\n",
      "  (0, 1)\t-1.0\n",
      "  (1, 0)\t-0.5\n",
      "  (1, 1)\t1.5\n",
      "  (1, 2)\t-1.0\n",
      "  (2, 1)\t-0.6666666666666666\n",
      "  (2, 2)\t1.3333333333333335\n"
     ]
    }
   ],
   "source": [
    "\"\"\"appel de fonction\"\"\"\n",
    "print(Facto_LU(A,True))"
   ]
  },
  {
   "cell_type": "markdown",
   "metadata": {},
   "source": [
    "## Question 6"
   ]
  },
  {
   "cell_type": "code",
   "execution_count": 910,
   "metadata": {},
   "outputs": [],
   "source": [
    "\"\"\"Algo de déscente\"\"\"\n",
    "def solve_Ly(A,b): #A est en CSR\n",
    "    \n",
    "    col = A.indptr\n",
    "    row = A.indices\n",
    "    data = A.data\n",
    "\n",
    "    # Ly=b\n",
    "    n=len(b)\n",
    "    y = np.zeros(n)\n",
    "\n",
    "    for i in range(0,n): #boucle sur les lignes\n",
    "        \n",
    "        cols = range(col[i],col[i+1]) \n",
    "        y[i] = b[i]\n",
    "\n",
    "        for k in cols:#boucles sur les colonnes non nulles\n",
    "            if (row[k]<i): #diagonale inférieur\n",
    "                y[i] -= y[row[k]]*data[k] # L a des 1 dans la diagonale!\n",
    "    return y"
   ]
  },
  {
   "cell_type": "code",
   "execution_count": 911,
   "metadata": {},
   "outputs": [],
   "source": [
    "\"\"\"Algo de remonté\"\"\"\n",
    "def solve_Ux(A,y): #A est en CSR\n",
    "    \n",
    "    col = A.indptr\n",
    "    row = A.indices\n",
    "    data = A.data\n",
    "\n",
    "    # Ux=b\n",
    "    n=len(y)\n",
    "    x = np.zeros(n)\n",
    "\n",
    "    for i in range(n-1,-1,-1): #boucle sur les lignes inversées\n",
    "        \n",
    "        cols = range(col[i+1]-1,col[i]-1,-1) \n",
    "        x[i] = y[i]\n",
    "        for k in cols:#boucles sur les colonnes non nulles\n",
    "            if (row[k]>i): #diagonale inférieur\n",
    "                x[i] -= x[row[k]]*data[k]\n",
    "                \n",
    "            if (row[k]==i):\n",
    "                diag = k\n",
    "                \n",
    "        x[i] /= data[diag]#diagonale de U = diag de A\n",
    "        \n",
    "    return x"
   ]
  },
  {
   "cell_type": "code",
   "execution_count": 912,
   "metadata": {},
   "outputs": [],
   "source": [
    "\"\"\"Fonction solve_LU()\"\"\"\n",
    "def solve_LU(A,b):\n",
    "    \n",
    "    A= Facto_LU(A,CSR=True)\n",
    "    y= solve_Ly(A,b)\n",
    "    x= solve_Ux(A,y)\n",
    "    \n",
    "    return x"
   ]
  },
  {
   "cell_type": "markdown",
   "metadata": {},
   "source": [
    "## Question 7"
   ]
  },
  {
   "cell_type": "code",
   "execution_count": 915,
   "metadata": {},
   "outputs": [
    {
     "name": "stdout",
     "output_type": "stream",
     "text": [
      "La matrice LU inplace de A est: \n",
      " \n",
      " [[ 2.     -1.      0.    ]\n",
      " [-0.5     1.5    -1.    ]\n",
      " [ 0.     -0.6667  1.3333]]\n"
     ]
    }
   ],
   "source": [
    "\"\"\"test\"\"\"\n",
    "from scipy.linalg import lu_factor\n",
    "n = 3\n",
    "A = spsp.diags([-np.ones(n-1),2*np.ones(n),-np.ones(n-1)],[-1,0,1])\n",
    "\n",
    "print(\"La matrice LU inplace de A est: \\n \\n\", Facto_LU(A))"
   ]
  },
  {
   "cell_type": "code",
   "execution_count": 916,
   "metadata": {},
   "outputs": [
    {
     "name": "stdout",
     "output_type": "stream",
     "text": [
      "La solution calculée par l'algo solve_LU est \n",
      "\n",
      " [[1.5]\n",
      " [2. ]\n",
      " [1.5]]\n"
     ]
    }
   ],
   "source": [
    "print(\"La solution calculée par l'algo solve_LU est \\n\\n\",np.array(solve_LU(A,b)).reshape(len(b),1))"
   ]
  },
  {
   "cell_type": "code",
   "execution_count": 919,
   "metadata": {},
   "outputs": [
    {
     "name": "stdout",
     "output_type": "stream",
     "text": [
      "La solution calculée par scipy est \n",
      "\n",
      " [[1.5]\n",
      " [2. ]\n",
      " [1.5]]\n"
     ]
    }
   ],
   "source": [
    "\"\"\"verification par scipy\"\"\"\n",
    "from scipy.sparse.linalg import spsolve\n",
    "n = 3\n",
    "A = spsp.diags([-np.ones(n-1),2*np.ones(n),-np.ones(n-1)],[-1,0,1])\n",
    "print(\"La solution calculée par scipy est \\n\\n\",np.array(spsolve(A,b)).reshape(len(b),1))"
   ]
  },
  {
   "cell_type": "code",
   "execution_count": 920,
   "metadata": {},
   "outputs": [
    {
     "name": "stdout",
     "output_type": "stream",
     "text": [
      "l'erreur entre les deux methodes est \n",
      "\n",
      " [0. 0. 0.]\n"
     ]
    }
   ],
   "source": [
    "\"\"\"L'erreur\"\"\"\n",
    "print(\"l'erreur entre les deux methodes est \\n\\n\",spsolve(A,b)-solve_LU(A,b))"
   ]
  },
  {
   "cell_type": "markdown",
   "metadata": {},
   "source": [
    "***Conclusion:***"
   ]
  },
  {
   "cell_type": "code",
   "execution_count": 921,
   "metadata": {},
   "outputs": [
    {
     "name": "stdout",
     "output_type": "stream",
     "text": [
      "la norme de l'erreur est \n",
      "\n",
      " 0.0\n"
     ]
    }
   ],
   "source": [
    "erreur_norme=np.linalg.norm(spsolve(A,b)-solve_LU(A,b))\n",
    "print(\"la norme de l'erreur est \\n\\n\",erreur_norme)"
   ]
  },
  {
   "cell_type": "code",
   "execution_count": 922,
   "metadata": {},
   "outputs": [
    {
     "name": "stdout",
     "output_type": "stream",
     "text": [
      "la norme de A est \n",
      "\n",
      " 4.0\n"
     ]
    }
   ],
   "source": [
    "A_norme = np.linalg.norm(A.toarray())\n",
    "print(\"la norme de A est \\n\\n\",A_norme)"
   ]
  },
  {
   "cell_type": "code",
   "execution_count": 923,
   "metadata": {},
   "outputs": [
    {
     "name": "stdout",
     "output_type": "stream",
     "text": [
      "la precision est \n",
      "\n",
      " 2.220446049250313e-16\n"
     ]
    }
   ],
   "source": [
    "print(\"la precision est \\n\\n\",np.finfo(np.float64).eps)"
   ]
  },
  {
   "cell_type": "markdown",
   "metadata": {},
   "source": [
    "Dans les lignes de code ci-dessus on vérifie que l'erreur engendrée par la factorisation en virgule flottante est acceptable en utilisant une precison $\\epsilon$. Ceci est vérifié par l'inégalité vue dans le cours:\n",
    "$$ \\big\\|\\partial A\\big\\| \\leq \\big\\| L\\big\\| \\big\\| U\\big\\|\\times \\epsilon $$\n",
    "Dans le cas étudié, l'erreur est nulle donc il n'y a pas d'erreur due à la précision."
   ]
  },
  {
   "cell_type": "code",
   "execution_count": 928,
   "metadata": {},
   "outputs": [
    {
     "name": "stdout",
     "output_type": "stream",
     "text": [
      "True\n"
     ]
    }
   ],
   "source": [
    "\"\"\"verification de la proposition de la factorisation obtenue en virgule flottante \"\"\"\n",
    "\n",
    "LU_norme = erreur_norme*A_norme\n",
    "precision = np.finfo(np.float64).eps\n",
    "print(erreur_norme <= LU_norme*precision)\n"
   ]
  },
  {
   "cell_type": "markdown",
   "metadata": {},
   "source": [
    "# Partie 3: Remplissage (Filli in)"
   ]
  },
  {
   "cell_type": "markdown",
   "metadata": {},
   "source": [
    "## Question 8"
   ]
  },
  {
   "cell_type": "markdown",
   "metadata": {},
   "source": [
    "***Critère d'existence d'une factorisation LU:***\n",
    "\n",
    "Si A et B sont à diagonales dominate par ligne ou par colonne, c'est à dire:\n",
    "$$ \\big|A_{ii}\\big| \\geq \\sum_{j = 0}^{n-1} \\big|A_{ij}\\big| \\,\\, \\forall i \\in \\big[0,n-1\\big] \\\\ \\iff \\fbox{ ${\\alpha}_A \\, et \\,{\\alpha}_B \\geq \\sum_0^{n-2}1 = n-1$} $$\n",
    "\n",
    "Alors les matrice A et B admettent une factorisation LU.\n"
   ]
  },
  {
   "cell_type": "markdown",
   "metadata": {},
   "source": [
    "## Question 9"
   ]
  },
  {
   "cell_type": "code",
   "execution_count": 929,
   "metadata": {},
   "outputs": [],
   "source": [
    "\"\"\"structure Dok \"\"\"\n",
    "def to_dok(n):\n",
    "    A = spsp.dok_matrix((n, n), dtype=np.float64)\n",
    "    B = spsp.dok_matrix((n, n), dtype=np.float64)\n",
    "    \n",
    "    A[0,:]= 1\n",
    "    A[:,0]= 1\n",
    "    A[0,0]= n-1\n",
    "    B[n-1,:]= 1\n",
    "    B[:,n-1]= 1\n",
    "    B[n-1,n-1]= n-1\n",
    "    \n",
    "    for i in range(1,n):\n",
    "            A[i, i] = 1.0 \n",
    "            \n",
    "    for i in range(0,n-1):\n",
    "            B[i, i] = 1.0 \n",
    "\n",
    "    return A,B"
   ]
  },
  {
   "cell_type": "code",
   "execution_count": 930,
   "metadata": {},
   "outputs": [],
   "source": [
    "\"\"\"Convertion au format csr\"\"\"\n",
    "def tocsr(A,B):\n",
    "    \n",
    "    A= spsp.csr.csr_matrix(A) \n",
    "    B= spsp.csr.csr_matrix(B) \n",
    "    \n",
    "    return A,B\n",
    "    "
   ]
  },
  {
   "cell_type": "code",
   "execution_count": 931,
   "metadata": {},
   "outputs": [],
   "source": [
    "A,B = to_dok(7)"
   ]
  },
  {
   "cell_type": "code",
   "execution_count": 932,
   "metadata": {},
   "outputs": [
    {
     "name": "stdout",
     "output_type": "stream",
     "text": [
      "A est: \n",
      "\n",
      " [[6. 1. 1. 1. 1. 1. 1.]\n",
      " [1. 1. 0. 0. 0. 0. 0.]\n",
      " [1. 0. 1. 0. 0. 0. 0.]\n",
      " [1. 0. 0. 1. 0. 0. 0.]\n",
      " [1. 0. 0. 0. 1. 0. 0.]\n",
      " [1. 0. 0. 0. 0. 1. 0.]\n",
      " [1. 0. 0. 0. 0. 0. 1.]]\n",
      "\n",
      "B est: \n",
      "\n",
      " [[1. 0. 0. 0. 0. 0. 1.]\n",
      " [0. 1. 0. 0. 0. 0. 1.]\n",
      " [0. 0. 1. 0. 0. 0. 1.]\n",
      " [0. 0. 0. 1. 0. 0. 1.]\n",
      " [0. 0. 0. 0. 1. 0. 1.]\n",
      " [0. 0. 0. 0. 0. 1. 1.]\n",
      " [1. 1. 1. 1. 1. 1. 6.]]\n"
     ]
    }
   ],
   "source": [
    "print(\"A est: \\n\\n\",A.toarray())\n",
    "print(\"\\nB est: \\n\\n\",B.toarray())"
   ]
  },
  {
   "cell_type": "code",
   "execution_count": 933,
   "metadata": {},
   "outputs": [
    {
     "data": {
      "text/plain": [
       "(<7x7 sparse matrix of type '<class 'numpy.float64'>'\n",
       " \twith 19 stored elements in Compressed Sparse Row format>,\n",
       " <7x7 sparse matrix of type '<class 'numpy.float64'>'\n",
       " \twith 19 stored elements in Compressed Sparse Row format>)"
      ]
     },
     "execution_count": 933,
     "metadata": {},
     "output_type": "execute_result"
    }
   ],
   "source": [
    "A,B=tocsr(A,B)\n",
    "A,B"
   ]
  },
  {
   "cell_type": "markdown",
   "metadata": {},
   "source": [
    "## Question 10"
   ]
  },
  {
   "cell_type": "code",
   "execution_count": 934,
   "metadata": {},
   "outputs": [],
   "source": [
    "A,B = to_dok(7)\n",
    "A,B=tocsr(A,B)"
   ]
  },
  {
   "cell_type": "code",
   "execution_count": 935,
   "metadata": {},
   "outputs": [
    {
     "data": {
      "image/png": "[encoded data removed]",
      "text/plain": [
       "<Figure size 864x648 with 2 Axes>"
      ]
     },
     "metadata": {
      "needs_background": "light"
     },
     "output_type": "display_data"
    }
   ],
   "source": [
    "\"\"\"Affichage des matrices creuse A, B avant la factorisation LU\"\"\"\n",
    "import matplotlib.pyplot as plt\n",
    "\n",
    "fig,ax = plt.subplots(1,2,figsize=(12,9))\n",
    "ax[0].spy(A,label=\"A\")\n",
    "ax[1].spy(B,label=\"B\")\n",
    "ax[0].legend()\n",
    "ax[1].legend()\n",
    "fig.suptitle(\"Avant facorisation LU\",fontsize=20)\n",
    "fig.show()"
   ]
  },
  {
   "cell_type": "code",
   "execution_count": 600,
   "metadata": {},
   "outputs": [
    {
     "data": {
      "image/png": "[encoded data removed]",
      "text/plain": [
       "<Figure size 864x648 with 2 Axes>"
      ]
     },
     "metadata": {
      "needs_background": "light"
     },
     "output_type": "display_data"
    }
   ],
   "source": [
    "\"\"\"Affichage des matrices creuse A, B apres la factorisation LU in place\"\"\"\n",
    "A=Facto_LU(A,True)\n",
    "B=Facto_LU(B,True)\n",
    "\n",
    "fig,ax = plt.subplots(1,2,figsize=(12,9))\n",
    "ax[0].spy(A,label=\"A_LU\")\n",
    "ax[1].spy(B,label=\"B_LU\")\n",
    "ax[0].legend()\n",
    "ax[1].legend()\n",
    "fig.suptitle(\"Aprés la facorisation LU\",fontsize=20)\n",
    "fig.show()"
   ]
  },
  {
   "cell_type": "markdown",
   "metadata": {},
   "source": [
    "***Commentaire***:\n",
    "\n",
    "La facrorisation LU ne conserve pas le format creux de A!\n",
    "Il va falloire faire une permuatation entre 0 et n-1 pour que A ressemble à B et aura par suite une conservation du format creux."
   ]
  },
  {
   "cell_type": "markdown",
   "metadata": {},
   "source": [
    "# Partie 4: Temps de calcul"
   ]
  },
  {
   "cell_type": "markdown",
   "metadata": {},
   "source": [
    "## Question 11"
   ]
  },
  {
   "cell_type": "code",
   "execution_count": 936,
   "metadata": {},
   "outputs": [],
   "source": [
    "def diags_bande(n):\n",
    "    \n",
    "    d=int(n**(1/2))\n",
    "    diags = []\n",
    "    bande = []\n",
    "    #termes inferieur\n",
    "    for i in np.arange(d,0,-1):\n",
    "        diags.append(-1*np.ones(n-i))\n",
    "        bande.append(-i)\n",
    "    #terme diagonale\n",
    "    diags.append(4*np.ones(n))\n",
    "    bande.append(0)\n",
    "    #termes supérieur\n",
    "    for i in np.arange(1,d+1):\n",
    "        diags.append(-1*np.ones(n-i))\n",
    "        bande.append(i)\n",
    "        \n",
    "    return diags,bande\n"
   ]
  },
  {
   "cell_type": "code",
   "execution_count": 937,
   "metadata": {},
   "outputs": [
    {
     "name": "stdout",
     "output_type": "stream",
     "text": [
      "les diagonales sont: \n",
      " \n",
      " [array([-1., -1., -1., -1., -1., -1., -1.]), array([-1., -1., -1., -1., -1., -1., -1., -1.]), array([-1., -1., -1., -1., -1., -1., -1., -1., -1.]), array([4., 4., 4., 4., 4., 4., 4., 4., 4., 4.]), array([-1., -1., -1., -1., -1., -1., -1., -1., -1.]), array([-1., -1., -1., -1., -1., -1., -1., -1.]), array([-1., -1., -1., -1., -1., -1., -1.])]\n",
      "\n",
      "les emplacements des diagonales sont: \n",
      " \n",
      " [-3, -2, -1, 0, 1, 2, 3]\n"
     ]
    }
   ],
   "source": [
    "\"\"\"test\"\"\"\n",
    "diags,bande=diags_bande(10)\n",
    "print(\"les diagonales sont: \\n \\n\", diags)\n",
    "print(\"\\nles emplacements des diagonales sont: \\n \\n\", bande)"
   ]
  },
  {
   "cell_type": "code",
   "execution_count": 938,
   "metadata": {},
   "outputs": [],
   "source": [
    "A = spsp.diags(diags,bande)\n",
    "A = spsp.csr.csr_matrix(A)"
   ]
  },
  {
   "cell_type": "code",
   "execution_count": 939,
   "metadata": {},
   "outputs": [
    {
     "data": {
      "image/png": "[encoded data removed]",
      "text/plain": [
       "<Figure size 432x288 with 1 Axes>"
      ]
     },
     "metadata": {
      "needs_background": "light"
     },
     "output_type": "display_data"
    }
   ],
   "source": [
    "plt.spy(A,label=\"A\")\n",
    "plt.title(\"Stockage en bande de A\")\n",
    "plt.xticks([]);"
   ]
  },
  {
   "cell_type": "markdown",
   "metadata": {},
   "source": [
    "## Question 12"
   ]
  },
  {
   "cell_type": "code",
   "execution_count": 940,
   "metadata": {},
   "outputs": [],
   "source": [
    "\"\"\"Comparaison du temps de calcul de la factorisation LU de A et de sa version dense\"\"\"\n",
    "import time\n",
    "\n",
    "def time_lu(A):\n",
    "    deb = time.time()\n",
    "    Facto_LU(A,True)\n",
    "    fin = time.time()\n",
    "    #print(\"(LU) temps de calcul = \", fin-deb)\n",
    "    return fin-deb\n",
    "    "
   ]
  },
  {
   "cell_type": "code",
   "execution_count": 941,
   "metadata": {},
   "outputs": [],
   "source": [
    "def mat_dense(n):\n",
    "    A =np.ones((n,n))\n",
    "    for i in range(n):\n",
    "        A[i,i]=n #   \"\"\"diagonale dominante\"\"\"\n",
    "    A = spsp.csr.csr_matrix(A)\n",
    "    return A\n",
    "\n",
    "def Comparaison(dim):\n",
    "    \n",
    "    bande_time=[]\n",
    "    dense_time=[]\n",
    "    \n",
    "    for n in dim:\n",
    "        \n",
    "        diags,bande=Band_intervalle(n,d)\n",
    "        A = spsp.diags(diags,bande)\n",
    "        A = spsp.csr.csr_matrix(A)\n",
    "        bande_time.append(time_lu(A))\n",
    "        A = mat_dense(n)# matrice dense\n",
    "        dense_time.append(time_lu(A))\n",
    "    \n",
    "    return bande_time,dense_time"
   ]
  },
  {
   "cell_type": "code",
   "execution_count": 942,
   "metadata": {},
   "outputs": [],
   "source": [
    "\"\"\"test\"\"\"\n",
    "n = np.arange(4,100,5)\n",
    "bande_time,dense_time=Comparaison(n)"
   ]
  },
  {
   "cell_type": "code",
   "execution_count": 943,
   "metadata": {},
   "outputs": [
    {
     "data": {
      "image/png": "[encoded data removed]",
      "text/plain": [
       "<Figure size 864x648 with 1 Axes>"
      ]
     },
     "metadata": {
      "needs_background": "light"
     },
     "output_type": "display_data"
    }
   ],
   "source": [
    "\"\"\"plot\"\"\"\n",
    "fig, ax = plt.subplots(figsize=(12,9))\n",
    "ax.plot(n,bande_time,'r-',label=\"LU_bande\")\n",
    "ax.plot(n,dense_time,'k-,',label=\"LU_dense\")\n",
    "ax.legend(loc='best')\n",
    "ax.set_title(\"Temps de factorisation LU\")\n",
    "fig.show()"
   ]
  },
  {
   "cell_type": "markdown",
   "metadata": {},
   "source": [
    "#### ***Commentaire***:\n",
    "La matrice bande n'est assez rapide comme on pouvait espérer d'une matrice creuse! Ceci est du au fait que la forme creuse n'est pas conservée par la factorisation  LU. Cela explique aussi les pics ou la factorisation de la matrice bande est plus rapide."
   ]
  },
  {
   "cell_type": "markdown",
   "metadata": {},
   "source": [
    "## Question 13"
   ]
  },
  {
   "cell_type": "code",
   "execution_count": 945,
   "metadata": {},
   "outputs": [],
   "source": [
    "\"\"\"En utilisant la classe :scipy.sparse.linalg.splu\"\"\"\n",
    "def time_lu(A):\n",
    "    deb = time.time()\n",
    "    A = spsp.csr.csr_matrix(A)\n",
    "    spsp.linalg.splu(A)\n",
    "    fin = time.time()\n",
    "    #print(\"(LU) temps de calcul = \", fin-deb)\n",
    "    return fin-deb\n",
    "\n",
    "def Comparaison_scipy(dim):\n",
    "    \n",
    "    bande_time=[]\n",
    "    dense_time=[]\n",
    "    \n",
    "    for n in dim:\n",
    "        \n",
    "        diags,bande=Band_intervalle(n,d)\n",
    "        A = spsp.diags(diags,bande)\n",
    "        A = spsp.csr.csr_matrix(A)\n",
    "        bande_time.append(time_lu(A))\n",
    "        A = mat_dense(n)# matrice dense\n",
    "        dense_time.append(time_lu(A))\n",
    "    \n",
    "    return bande_time,dense_time"
   ]
  },
  {
   "cell_type": "code",
   "execution_count": 946,
   "metadata": {},
   "outputs": [],
   "source": [
    "\"\"\"appel de la fonction\"\"\"\n",
    "n = np.arange(4,100,10)\n",
    "bande_time,dense_time=Comparaison(n)"
   ]
  },
  {
   "cell_type": "code",
   "execution_count": 947,
   "metadata": {},
   "outputs": [
    {
     "data": {
      "image/png": "[encoded data removed]",
      "text/plain": [
       "<Figure size 864x648 with 1 Axes>"
      ]
     },
     "metadata": {
      "needs_background": "light"
     },
     "output_type": "display_data"
    }
   ],
   "source": [
    "\"\"\"plot\"\"\"\n",
    "fig, ax = plt.subplots(figsize=(12,9))\n",
    "ax.plot(n,bande_time,'r-',label=\"SPLU_bande\")\n",
    "ax.plot(n,dense_time,'k-,',label=\"LU_dense\")\n",
    "ax.legend(loc='best')\n",
    "ax.set_title(\"Temps de factorisation LU\")\n",
    "fig.show()"
   ]
  },
  {
   "cell_type": "markdown",
   "metadata": {},
   "source": [
    "***Commentaire:***\n",
    "*  Il est claire dans le graphe ci dessus que quand on untilise des permuations inclut par la classe \"SPLU\" dans la factorisation on a une conservation de format creuse ce qui signifie un temps de calcul rapide par suite.\n",
    "* Aussi plus n est grand plus la forme creuse de la matrice est cruciale pour diminuer le temps de calcul. Dans l'exemple c'est à partir de n $\\sim 80$."
   ]
  },
  {
   "cell_type": "code",
   "execution_count": null,
   "metadata": {},
   "outputs": [],
   "source": []
  }
 ],
 "metadata": {
  "kernelspec": {
   "display_name": "Python 3",
   "language": "python",
   "name": "python3"
  },
  "language_info": {
   "codemirror_mode": {
    "name": "ipython",
    "version": 3
   },
   "file_extension": ".py",
   "mimetype": "text/x-python",
   "name": "python",
   "nbconvert_exporter": "python",
   "pygments_lexer": "ipython3",
   "version": "3.7.1"
  }
 },
 "nbformat": 4,
 "nbformat_minor": 2
}
