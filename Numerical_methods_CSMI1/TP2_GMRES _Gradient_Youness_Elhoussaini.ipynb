{
 "cells": [
  {
   "cell_type": "code",
   "execution_count": 373,
   "metadata": {},
   "outputs": [],
   "source": [
    "import numpy as np\n",
    "import scipy as sp\n",
    "import scipy.sparse as spsp\n",
    "import scipy.sparse.linalg as spsplin\n",
    "import math\n",
    "from scipy.sparse.linalg import spsolve\n",
    "import pandas as pd\n",
    "import matplotlib.pyplot as plt\n",
    "\n",
    "np.set_printoptions(linewidth=400,precision=10,suppress=True)"
   ]
  },
  {
   "cell_type": "markdown",
   "metadata": {},
   "source": [
    "# Partie 1: GMRES"
   ]
  },
  {
   "cell_type": "markdown",
   "metadata": {},
   "source": [
    "# Question 1:"
   ]
  },
  {
   "cell_type": "code",
   "execution_count": 374,
   "metadata": {},
   "outputs": [],
   "source": [
    "def Arnoldi(A,V,H):\n",
    "    \n",
    "    k=V.shape[1]\n",
    "    n=A.shape[0]\n",
    "    \n",
    "    Vp = np.zeros((n,k+1)).astype(np.float64)\n",
    "    Hp = np.zeros((k+1,k)).astype(np.float64)\n",
    "    Wk = np.zeros((n,1)).astype(np.float64) #un vecteur pour calculer vk et h(k,k-1)\n",
    "    \n",
    "    Vp[:,0:-1] =  V[:,:] \n",
    "    Hp[0:-1,0:-1] =  H[:,:] \n",
    "    \n",
    "    \"\"\"calcul de h(j,k-1)->Hp(j,k-1), j=[0,k-1]\"\"\"\n",
    "    for i in range(k):\n",
    "        Hp[i,-1] = np.dot(A@V[:,-1],V[:,i])\n",
    "        \n",
    "    #print(\"check=\",Hp[:,:]) \n",
    "    \n",
    "    \"\"\"calcule de Wk\"\"\"\n",
    "    Wk[:,-1]=A@V[:,-1]\n",
    "    for i in range(k):\n",
    "        Wk[:,-1] -= np.dot(A@V[:,-1],V[:,i])*V[:,i]\n",
    "        \n",
    "    #print(\"check=\",Wk[:,-1])\n",
    "    \n",
    "    \"\"\"calcul de vk\"\"\"\n",
    "    Vp[:,-1] = Wk[:,-1]/sp.linalg.norm(Wk[:,-1])\n",
    "    \n",
    "    #print(\"check=\",Vp[:,-1])\n",
    "    \n",
    "    \"\"\"calcul de h(k,k-1)->Hp\"\"\"\n",
    "    Hp[-1,-1] = sp.linalg.norm(Wk[:,-1]) \n",
    "    \n",
    "    #print(\"check=\",Hp[:,-1])\n",
    "      \n",
    "    return Vp,Hp     "
   ]
  },
  {
   "cell_type": "code",
   "execution_count": 375,
   "metadata": {},
   "outputs": [
    {
     "name": "stdout",
     "output_type": "stream",
     "text": [
      "Vp = \n",
      " [[ 1.   1.   1.  -0.5]\n",
      " [ 1.   1.   1.  -0.5]\n",
      " [ 1.   1.   1.  -0.5]\n",
      " [ 1.   1.   1.  -0.5]]\n",
      "Hp = \n",
      " [[ 1.  1. 16.]\n",
      " [ 1.  1. 16.]\n",
      " [ 1.  1. 16.]\n",
      " [ 0.  0. 88.]]\n"
     ]
    }
   ],
   "source": [
    "\"\"\"test\"\"\"\n",
    "def Arnoldi_test(n,k):\n",
    "    A = np.ones((n,n)) \n",
    "    V=np.ones((n,k))\n",
    "    H=np.ones((k,k-1))\n",
    "    Vp,Hp = Arnoldi(A,V,H)\n",
    "    print(\"Vp = \\n\",Vp)\n",
    "    print(\"Hp = \\n\",Hp)\n",
    "    return Vp,Hp\n",
    "    \n",
    "Vp,Hp = Arnoldi_test(4,3)"
   ]
  },
  {
   "cell_type": "markdown",
   "metadata": {},
   "source": [
    "# Question 2:"
   ]
  },
  {
   "cell_type": "markdown",
   "metadata": {},
   "source": [
    "***Quelques notes:***"
   ]
  },
  {
   "cell_type": "markdown",
   "metadata": {},
   "source": [
    "Il est à noter que dans les codes fournis ci-dessous aussi dans l'énoncé: $$ H= \\hat {H_k} =H_p$$\n",
    "Alors que dans le cours on a vue que:  $$ H= \\hat {H}[:k+1,:k+1] =\\hat {H}[0:-1,:] \\in \\mathbf M_{(k+1,k+1)}$$"
   ]
  },
  {
   "cell_type": "markdown",
   "metadata": {},
   "source": [
    "Il est important de poser un vecteur numpy et préciser la forme (i.e. shape=(1,0)) au lieu d'une liste vide [] pour l'initialisation de $\\hat H_{-1}$."
   ]
  },
  {
   "cell_type": "markdown",
   "metadata": {},
   "source": [
    "Il faut avoir les dimensions suivant:\n",
    "$y\\in \\mathbf R^{k+1}$\n",
    "\n",
    "$\\hat H_{k} \\in \\mathbf M_{(k+2,k+1)}$\n",
    "\n",
    "$ Q_{k} \\in \\mathbf O_{(k+2,k+2)}$\n",
    "\n",
    "$ {\\bar R}_{k} \\in \\mathbf M_{(k+1,k+1)}$\n",
    "\n",
    "$ x_k \\in \\mathbf R^{n}$\n"
   ]
  },
  {
   "cell_type": "code",
   "execution_count": 376,
   "metadata": {},
   "outputs": [],
   "source": [
    "\"\"\"pour eviter de calculer a chaque fois\"\"\"\n",
    "eps=10**(-4)"
   ]
  },
  {
   "cell_type": "markdown",
   "metadata": {},
   "source": [
    "***Nombre d'iterations:***\n",
    "\n",
    "Pour éviter que GMRES tourne \"longtemps\" on pourai introduire un parametre optionnel \"iter_limit\" et on a ajouter une contrainte sur le nombre d'iteration dans la boucle while ci-dessous. Dans le cours on a montrer que $k=\"cpt\"$ doit être << n donc on la rajoute comme condition d'arret (e.g. $k < n$). Il faut ajouter cette condition au cas ou la precision est trés haute (e.g $<< 1*10^{-10}$)."
   ]
  },
  {
   "cell_type": "code",
   "execution_count": 377,
   "metadata": {},
   "outputs": [],
   "source": [
    "def gmres(A,b,xexact,eps = eps,iter_limit = True):\n",
    "    \n",
    "    \"\"\"Initialisation\"\"\"\n",
    "    cpt = 0 #pour calculer le nombre d'iteration\n",
    "    n=A.shape[0]\n",
    "    x0=np.zeros_like(b)# Remarque:si elle != 0 on doit l'accumuler pour calculer x_(k+1) = x_0 + V_k*y \n",
    "    print(\"\\n------Solution pour k=\"+str(cpt)+\"------\\nx_0=\\n\",x0)\n",
    "    r0 = b-A@x0\n",
    "    v0= r0/sp.linalg.norm(r0)\n",
    "    \n",
    "    V = v0.reshape((n,1))\n",
    "    H = np.array([]).reshape(1,0)\n",
    "    \n",
    "    err_rel = sp.linalg.norm(xexact-x0)/ sp.linalg.norm(xexact)\n",
    "    res_rel = sp.linalg.norm(r0)/ sp.linalg.norm(r0)\n",
    "    \n",
    "    X = x0\n",
    "    Err_rel = np.array([err_rel])\n",
    "    Res_rel = np.array([res_rel])\n",
    "    \n",
    "    while (res_rel > eps):\n",
    "        \n",
    "        \"\"\"On poura mettre une autre limite que n (e.g n/2 !?)\"\"\"\n",
    "        if(iter_limit and (cpt>n)):\n",
    "            X = X.reshape(int(len(X)/n),n)\n",
    "            return X,Err_rel,Res_rel\n",
    "        \n",
    "        \"\"\"calcul de V,H,Q et R\"\"\"\n",
    "        V,H = Arnoldi(A,V,H)\n",
    "        Q,R = sp.linalg.qr(H)\n",
    "        \"\"\"\n",
    "        print(\"\\nV=\\n\",V)\n",
    "        print(\"\\nH=\\n\",H)\n",
    "        print(\"\\nR=\\n\",R)\n",
    "        print(\"\\nQ=\\n\",Q)\n",
    "        print(\"\\nV=\\n\",V.shape)\n",
    "        print(\"\\nH=\\n\",H.shape)\n",
    "        print(\"\\nR=\\n\",R.shape)\n",
    "        print(\"\\nQ=\\n\",Q.shape)\n",
    "        \"\"\"\n",
    "        \"\"\"solve y tq R'y=Q'\"\"\"\n",
    "        C= sp.linalg.norm(r0)*np.transpose(Q)[0:-1,0:1]#(k+1,1)\n",
    "        #print(\"\\nC=\\n\",C.shape)\n",
    "        y = np.linalg.solve(R[0:-1,:],C) #(k+1,1)\n",
    "        \n",
    "        #print(\"y=\\n\",y.shape)\n",
    "        \n",
    "        x = V[:,0:-1]@y\n",
    "        \n",
    "        rk = b-A@x\n",
    "        \n",
    "        err_rel = sp.linalg.norm(xexact-x)/ sp.linalg.norm(xexact)\n",
    "        res_rel = sp.linalg.norm(rk)/ sp.linalg.norm(r0)\n",
    "        \n",
    "        cpt+=1\n",
    "        print(\"\\n------Solution pour k=\"+str(cpt)+\"------\\nx_\"+str(cpt)+\"=\\n\",x.T)\n",
    "        \n",
    "        X = np.append(X,x)\n",
    "        Err_rel = np.append(Err_rel,err_rel)\n",
    "        Res_rel = np.append(Res_rel,res_rel)\n",
    "        \n",
    "    X = X.reshape(int(len(X)/n),n)\n",
    "    return X,Err_rel,Res_rel"
   ]
  },
  {
   "cell_type": "markdown",
   "metadata": {},
   "source": [
    "# Question 3:"
   ]
  },
  {
   "cell_type": "markdown",
   "metadata": {},
   "source": [
    "***Remarque:***\n",
    "Pour avoir une haute précision l'algo tourne en boucle sans avoir la precision recherché et ceci est peut être causé par les arrondi fait par la machine!? D'ou l'utilité du parametre optionnel `iter_limit` qu'il est recommender de mettre à `True`."
   ]
  },
  {
   "cell_type": "code",
   "execution_count": 378,
   "metadata": {},
   "outputs": [],
   "source": [
    "\"\"\"test\"\"\"\n",
    "def GMRES_test(n):\n",
    "    A= np.diag(2*np.ones(n)) + 0.5*np.random.rand(n,n)/np.sqrt(n)\n",
    "    b =np.ones(A.shape[0])\n",
    "    xexact = np.linalg.solve(A,b)\n",
    "    \n",
    "    \"\"\"On pourra calculer b en se basant sur x pour a voir une valeur certaine de comparaison!\"\"\"\n",
    "    \"\"\"\n",
    "    xexact =  np.ones(A.shape[0])\n",
    "    b=A@xexact \n",
    "    \"\"\"\n",
    "    #X,Err_rel,Res_rel= gmres(A,b,xexact,iter_limit = False) #dans ce cas il faut réduire la précision eps\n",
    "    X,Err_rel,Res_rel= gmres(A,b,xexact,iter_limit = True) #n iteration semble raisonnable!\n",
    "    \n",
    "    return xexact,X,Err_rel,Res_rel"
   ]
  },
  {
   "cell_type": "code",
   "execution_count": 379,
   "metadata": {},
   "outputs": [
    {
     "name": "stdout",
     "output_type": "stream",
     "text": [
      "\n",
      "------Solution pour k=0------\n",
      "x_0=\n",
      " [0. 0. 0. 0. 0. 0. 0. 0. 0. 0.]\n",
      "\n",
      "------Solution pour k=1------\n",
      "x_1=\n",
      " [[0.3582918952 0.3582918952 0.3582918952 0.3582918952 0.3582918952 0.3582918952 0.3582918952 0.3582918952 0.3582918952 0.3582918952]]\n",
      "\n",
      "------Solution pour k=2------\n",
      "x_2=\n",
      " [[0.340228221  0.4267690448 0.3367192537 0.3651350477 0.3436764329 0.3365532556 0.3967854421 0.3469832913 0.3301379571 0.3743570408]]\n",
      "\n",
      "------Solution pour k=3------\n",
      "x_3=\n",
      " [[0.3414527592 0.4272861472 0.3330711667 0.3690326311 0.3463434496 0.3310505383 0.3938027121 0.3488811306 0.3302858408 0.3758798138]]\n",
      "\n",
      "------Solution pour k=4------\n",
      "x_4=\n",
      " [[0.3415965027 0.4273118583 0.3329952162 0.3693876203 0.3464194256 0.3311349951 0.3939058078 0.3488845012 0.3301343346 0.375340577 ]]\n",
      "\n",
      " \t \t  \t* -------------La solution exacte est------:*\n",
      " \t \t  \t Sol=\n",
      " \t \t  \t [0.3416322989 0.4273197247 0.3329850181 0.3693788063 0.3464061431 0.3311439403 0.3938924622 0.3488767032 0.3301275701 0.3753452325]\n"
     ]
    }
   ],
   "source": [
    "n=10\n",
    "xexact,X,Err_rel,Res_rel= GMRES_test(n)\n",
    "print(\"\\n \\t \\t  \\t* -------------La solution exacte est------:*\\n \\t \\t  \\t Sol=\\n \\t \\t  \\t\",xexact)"
   ]
  },
  {
   "cell_type": "markdown",
   "metadata": {},
   "source": [
    "***Tracé de l'erreur et le résidu en fonction des itération:***"
   ]
  },
  {
   "cell_type": "code",
   "execution_count": 380,
   "metadata": {},
   "outputs": [],
   "source": [
    "def plot_erreur_residu(Err_rel,Res_rel):\n",
    "    it = len(Res_rel)\n",
    "    iteration=np.arange(it)\n",
    "\n",
    "    fig,ax = plt.subplots(2,1,figsize=(9,6),sharex=True)\n",
    "    ax[0].set_title(r\"L'erreur relative en echelle logarithmique\")\n",
    "    ax[0].plot(iteration, Err_rel, \"o-\");\n",
    "    #ax[0].set_xscale(\"log\")\n",
    "    ax[0].set_yscale(\"log\")\n",
    "    ax[1].set_title(r\" Le résidu en échelle logarithmique\")\n",
    "    ax[1].plot(iteration, Res_rel, \"o-\");\n",
    "    ax[1].plot(iteration, eps*np.ones(it), \"r--\",label=\" Précision =\"+str(eps));# décommentez pour voir la precision\n",
    "    #ax[1].set_xscale(\"log\")\n",
    "    ax[1].set_yscale(\"log\")\n",
    "    ax[1].legend();"
   ]
  },
  {
   "cell_type": "code",
   "execution_count": 381,
   "metadata": {},
   "outputs": [
    {
     "data": {
      "image/png": "[encoded data removed]",
      "text/plain": [
       "<Figure size 648x432 with 2 Axes>"
      ]
     },
     "metadata": {
      "needs_background": "light"
     },
     "output_type": "display_data"
    }
   ],
   "source": [
    "plot_erreur_residu(Err_rel,Res_rel)"
   ]
  },
  {
   "cell_type": "markdown",
   "metadata": {},
   "source": [
    "***Commentaire:***\n",
    "\n",
    "***Dans ce cas de n=10 GMRES converge au bout de 3 itération!***"
   ]
  },
  {
   "cell_type": "markdown",
   "metadata": {},
   "source": [
    "# Question 4 (facultative):"
   ]
  },
  {
   "cell_type": "code",
   "execution_count": 382,
   "metadata": {},
   "outputs": [],
   "source": [
    "def gmres_init(V,H):\n",
    "    \n",
    "    \"\"\"Initialisation\"\"\"\n",
    "    cpt = 0 #pour calculer le nombre d'iteration\n",
    "    \n",
    "    V = V[:,-2:-1]\n",
    "    H = H[:,-1]\n",
    "    \n",
    "    return cpt,V,H\n",
    "    "
   ]
  },
  {
   "cell_type": "code",
   "execution_count": 383,
   "metadata": {},
   "outputs": [],
   "source": [
    "def gmres_p(A,b,xexact,p,eps = eps):\n",
    "    \n",
    "    \"\"\"Initialisation\"\"\"\n",
    "    cpt = 0 #pour calculer le nombre d'iteration\n",
    "    n=A.shape[0]\n",
    "    x0=np.zeros_like(b)\n",
    "    print(\"\\n------Solution pour k=\"+str(cpt)+\"------\\nx_0=\\n\",x0)\n",
    "    r0 = b-A@x0\n",
    "    v0= r0/sp.linalg.norm(r0)\n",
    "    \n",
    "    V = v0.reshape((n,1))\n",
    "    H = np.array([]).reshape(1,0)\n",
    "    \n",
    "    err_rel = sp.linalg.norm(xexact-x0)/ sp.linalg.norm(xexact)\n",
    "    res_rel = sp.linalg.norm(r0)/ sp.linalg.norm(r0)\n",
    "    \n",
    "    X = x0\n",
    "    Err_rel = np.array([err_rel])\n",
    "    Res_rel = np.array([res_rel])\n",
    "    \n",
    "    while (res_rel > eps):\n",
    "        \n",
    "        if(cpt>p):\n",
    "            cpt,V,H =gmres_init(V,H)\n",
    "        \n",
    "        \"\"\"calcul de V,H,Q et R\"\"\"\n",
    "        V,H = Arnoldi(A,V,H)\n",
    "        Q,R = sp.linalg.qr(H)\n",
    "       \n",
    "        \"\"\"solve y tq R'y=Q'\"\"\"\n",
    "        C= sp.linalg.norm(r0)*np.transpose(Q)[0:-1,0:1]#(k+1,1)\n",
    "        #print(\"\\nC=\\n\",C.shape)\n",
    "        y = np.linalg.solve(R[0:-1,:],C) #(k+1,1)\n",
    "        \n",
    "        #print(\"y=\\n\",y.shape)\n",
    "        \n",
    "        x = V[:,0:-1]@y\n",
    "        \n",
    "        rk = b-A@x\n",
    "        \n",
    "        err_rel = sp.linalg.norm(xexact-x)/ sp.linalg.norm(xexact)\n",
    "        res_rel = sp.linalg.norm(rk)/ sp.linalg.norm(r0)\n",
    "        \n",
    "        cpt+=1\n",
    "        print(\"\\n------Solution pour k=\"+str(cpt)+\"------\\nx_\"+str(cpt)+\"=\\n\",x.T)\n",
    "        \n",
    "        X = np.append(X,x)\n",
    "        Err_rel = np.append(Err_rel,err_rel)\n",
    "        Res_rel = np.append(Res_rel,res_rel)\n",
    "        \n",
    "        \n",
    "    return X,Err_rel,Res_rel"
   ]
  },
  {
   "cell_type": "markdown",
   "metadata": {},
   "source": [
    "Faute de temps la fonction ci-dessus n'est pas testée!!"
   ]
  },
  {
   "cell_type": "markdown",
   "metadata": {},
   "source": [
    "# Partie 2: Gradient Conjugué"
   ]
  },
  {
   "cell_type": "markdown",
   "metadata": {},
   "source": [
    "## Question 5:"
   ]
  },
  {
   "cell_type": "markdown",
   "metadata": {},
   "source": [
    "***Complexité:***\n",
    "On a vue dans le cours que l'algorithme du `gradient conjugué` converge au plus dans n étapes. On introduit dans l'algo ci-dessous une condition d'arret supplémentaire telle que cpt < n pour éviter des boucle du au arrodis de la machine."
   ]
  },
  {
   "cell_type": "code",
   "execution_count": 386,
   "metadata": {},
   "outputs": [],
   "source": [
    "def gradient_conjugue(A,b,xexact,eps=eps):\n",
    "     \n",
    "    \"\"\"Initialisation\"\"\"\n",
    "    cpt = 0 #pour calculer le nombre d'iteration\n",
    "    n=A.shape[0]\n",
    "    x=np.zeros_like(b)\n",
    "    #print(\"\\n------Solution initiale--------\\nx_0=\\n\",x)\n",
    "    r0 = b-A@x # pour eviter d'avoir des copie de pointeur\n",
    "    #print(\"check=\",r0)\n",
    "    d = b-A@x # pour eviter d'avoir des copie de pointeur\n",
    "    r = b-A@x # pour eviter d'avoir des copie de pointeur\n",
    "    \n",
    "    err_rel = sp.linalg.norm(xexact-x)/ sp.linalg.norm(xexact)\n",
    "    res_rel = sp.linalg.norm(r0)/ sp.linalg.norm(r0)\n",
    "    \n",
    "    Err_rel = np.array([err_rel])\n",
    "    Res_rel = np.array([res_rel])\n",
    "    \n",
    "    #on pourra essayer pour while((res_rel > eps)and (cpt<n*n)) mais le résultat et pareil!\n",
    "    while ((res_rel > eps)and (cpt<n)):\n",
    "        \n",
    "        \"\"\"etape k\"\"\"\n",
    "        r_k = r #pour pouvoir l'utiliser ultérieurement en bas\n",
    "        \n",
    "        \"\"\"etape k+1\"\"\"\n",
    "        s = (r@r)/((A@d)@d)\n",
    "        x += s*d\n",
    "        \n",
    "        r -= s*A@d\n",
    "        #print(\"check\",sp.linalg.norm(r))\n",
    "        \n",
    "        beta = (r@r)/(r_k@r_k)\n",
    "        d = r + beta*d \n",
    "        \n",
    "        err_rel = sp.linalg.norm(xexact-x)/ sp.linalg.norm(xexact) \n",
    "        res_rel = sp.linalg.norm(r_k)/ sp.linalg.norm(r0)\n",
    "        #print(\"check\",sp.linalg.norm(r0))\n",
    "        \n",
    "        cpt+=1\n",
    "        #print(\"\\n------Solution pour k=\"+str(cpt)+\"------\\nx_\"+str(cpt)+\"=\\n\",x.T)\n",
    "        \n",
    "        Err_rel = np.append(Err_rel,err_rel)\n",
    "        Res_rel = np.append(Res_rel,res_rel)\n",
    "    print(\"\\n------Solution obtenue aprés k=\"+str(cpt)+\" iterations------\\n \\n\")\n",
    "   \n",
    "    return x,Err_rel,Res_rel"
   ]
  },
  {
   "cell_type": "markdown",
   "metadata": {},
   "source": [
    "## Question 6:"
   ]
  },
  {
   "cell_type": "code",
   "execution_count": 466,
   "metadata": {},
   "outputs": [],
   "source": [
    "\"\"\"test\"\"\"\n",
    "def gradient_conjugue_test(d):\n",
    "    \n",
    "    n = d*d\n",
    "    A= spsp.diags([[4.]*n,[-1]*(n-1),[-1]*(n-1),[-1]*(n-d),[-1]*(n-d)],\n",
    "                  [0,1,-1,d,-d])\n",
    "    A = spsp.csr_matrix(A) #to.csr() n'a pas marché même dans le TP d'avant\n",
    "    b =  2*np.ones(n).astype(np.float64)\n",
    "    \"\"\"solution exacte scipy\"\"\"\n",
    "    xexact = np.array(spsolve(A,b))\n",
    "    \n",
    "    #print(xexact) \n",
    "    \n",
    "    return A,b,xexact\n",
    "d=3\n",
    "A,b,xexact = gradient_conjugue_test(d)"
   ]
  },
  {
   "cell_type": "code",
   "execution_count": 388,
   "metadata": {},
   "outputs": [
    {
     "name": "stdout",
     "output_type": "stream",
     "text": [
      "\n",
      "------Solution obtenue aprés k=9 iterations------\n",
      " \n",
      "\n",
      "* -------------La solution exacte est------:*\n",
      " \t \t  \t Sol=\n",
      " [1.9096385542 2.4819277108 2.6987951807 3.156626506  3.3192771084 3.156626506  2.6987951807 2.4819277108 1.9096385542]\n",
      "\n",
      " \n",
      "* -------------La solution trouvée est------:*\n",
      " \t \t  \t Sol_algo=\n",
      " [2.0386599353 2.7233219148 2.9027527553 3.4960299732 3.6685363625 3.4960299732 2.9027527553 2.7233219148 2.0386599353]\n",
      "Wall time: 7 ms\n"
     ]
    }
   ],
   "source": [
    "%%time\n",
    "x,Err_rel,Res_rel= gradient_conjugue(A,b,xexact)\n",
    "print(\"* -------------La solution exacte est------:*\\n \\t \\t  \\t Sol=\\n\",xexact)\n",
    "print(\"\\n \\n* -------------La solution trouvée est------:*\\n \\t \\t  \\t Sol_algo=\\n\",x)"
   ]
  },
  {
   "cell_type": "markdown",
   "metadata": {},
   "source": [
    "***Tracé de l'erreur et du residu:***"
   ]
  },
  {
   "cell_type": "code",
   "execution_count": 389,
   "metadata": {},
   "outputs": [
    {
     "name": "stdout",
     "output_type": "stream",
     "text": [
      "\n",
      "------L'erreur relative pour chaque iteration=------=\n",
      " [1.           0.232793935  0.059808932  0.0713859275 0.0807141612 0.0865666198 0.090119369  0.092351213  0.0938148622 0.0948088556]\n",
      "\n",
      "------Le residus relatif pour chaque iteration=------=\n",
      " [1.           0.8291561976 0.2798153124 0.2513001507 0.2192648975 0.1927596676 0.1728531975 0.1580772837 0.1469753088 0.1385065383]\n"
     ]
    }
   ],
   "source": [
    "print(\"\\n------L'erreur relative pour chaque iteration=------=\\n\",Err_rel)\n",
    "print(\"\\n------Le residus relatif pour chaque iteration=------=\\n\",Res_rel)"
   ]
  },
  {
   "cell_type": "code",
   "execution_count": 390,
   "metadata": {},
   "outputs": [
    {
     "data": {
      "image/png": "[encoded data removed]",
      "text/plain": [
       "<Figure size 648x432 with 2 Axes>"
      ]
     },
     "metadata": {
      "needs_background": "light"
     },
     "output_type": "display_data"
    }
   ],
   "source": [
    "plot_erreur_residu(Err_rel,Res_rel)"
   ]
  },
  {
   "cell_type": "markdown",
   "metadata": {},
   "source": [
    "***Commentaire:***\n",
    "L'algorithme `Gradient conjugué` converge vers une solution avec un résidu relatif de $ \\sim 10^{-1}$ à la 9 ème itération. Ceci est du au faite que la solution exact n'est pas bien estimée. On a essayé en augmentant le nombre d'itération maximal à $n*n$ mais la conclusion est pareil."
   ]
  },
  {
   "cell_type": "markdown",
   "metadata": {},
   "source": [
    "***Comparaison avec GMRES:***\n",
    "\n",
    "Pour comparer les deux algorithmes on va résoudre la même équation et on va tracer les erreurs relative et les résidus de chaqu'un des algoritmes. En même temps on va comparer le temps de calcul grace à la commande ipython `%%time`."
   ]
  },
  {
   "cell_type": "code",
   "execution_count": 391,
   "metadata": {},
   "outputs": [],
   "source": [
    "\"\"\"Comparaison\"\"\"\n",
    "def Comparaison(d):\n",
    "    n = d*d\n",
    "    B= spsp.diags([[4.]*n,[-1]*(n-1),[-1]*(n-1),[-1]*(n-d),[-1]*(n-d)],\n",
    "                  [0,1,-1,d,-d])\n",
    "    B = spsp.csr_matrix(B)\n",
    "    b =  2*np.ones(n)\n",
    "    \"\"\"solution exacte scipy\"\"\"\n",
    "    xexact = np.array(spsolve(B,b))\n",
    "    A = np.array(B.toarray())\n",
    "    \n",
    "    return A,B,b,xexact\n",
    "#d=3\n",
    "d=10\n",
    "A,B,b,xexact = Comparaison(d) #A sans stockage creux et B pour le stockage creux CSR "
   ]
  },
  {
   "cell_type": "code",
   "execution_count": 392,
   "metadata": {},
   "outputs": [
    {
     "name": "stdout",
     "output_type": "stream",
     "text": [
      "\n",
      "------Solution obtenue aprés k=100 iterations------\n",
      " \n",
      "\n",
      "Wall time: 45 ms\n"
     ]
    }
   ],
   "source": [
    "%%time\n",
    "x,Err_rel,Res_rel= gradient_conjugue(B,b,xexact)"
   ]
  },
  {
   "cell_type": "code",
   "execution_count": 393,
   "metadata": {},
   "outputs": [
    {
     "data": {
      "image/png": "[encoded data removed]",
      "text/plain": [
       "<Figure size 648x432 with 2 Axes>"
      ]
     },
     "metadata": {
      "needs_background": "light"
     },
     "output_type": "display_data"
    }
   ],
   "source": [
    "plot_erreur_residu(Err_rel,Res_rel)"
   ]
  },
  {
   "cell_type": "code",
   "execution_count": 394,
   "metadata": {},
   "outputs": [
    {
     "name": "stdout",
     "output_type": "stream",
     "text": [
      "\n",
      "------Solution pour k=0------\n",
      "x_0=\n",
      " [0. 0. 0. 0. 0. 0. 0. 0. 0. 0. 0. 0. 0. 0. 0. 0. 0. 0. 0. 0. 0. 0. 0. 0. 0. 0. 0. 0. 0. 0. 0. 0. 0. 0. 0. 0. 0. 0. 0. 0. 0. 0. 0. 0. 0. 0. 0. 0. 0. 0. 0. 0. 0. 0. 0. 0. 0. 0. 0. 0. 0. 0. 0. 0. 0. 0. 0. 0. 0. 0. 0. 0. 0. 0. 0. 0. 0. 0. 0. 0. 0. 0. 0. 0. 0. 0. 0. 0. 0. 0. 0. 0. 0. 0. 0. 0. 0. 0. 0. 0.]\n",
      "\n",
      "------Solution pour k=1------\n",
      "x_1=\n",
      " [[1.6923076923 1.6923076923 1.6923076923 1.6923076923 1.6923076923 1.6923076923 1.6923076923 1.6923076923 1.6923076923 1.6923076923 1.6923076923 1.6923076923 1.6923076923 1.6923076923 1.6923076923 1.6923076923 1.6923076923 1.6923076923 1.6923076923 1.6923076923 1.6923076923 1.6923076923 1.6923076923 1.6923076923 1.6923076923 1.6923076923 1.6923076923 1.6923076923 1.6923076923 1.6923076923\n",
      "  1.6923076923 1.6923076923 1.6923076923 1.6923076923 1.6923076923 1.6923076923 1.6923076923 1.6923076923 1.6923076923 1.6923076923 1.6923076923 1.6923076923 1.6923076923 1.6923076923 1.6923076923 1.6923076923 1.6923076923 1.6923076923 1.6923076923 1.6923076923 1.6923076923 1.6923076923 1.6923076923 1.6923076923 1.6923076923 1.6923076923 1.6923076923 1.6923076923 1.6923076923 1.6923076923\n",
      "  1.6923076923 1.6923076923 1.6923076923 1.6923076923 1.6923076923 1.6923076923 1.6923076923 1.6923076923 1.6923076923 1.6923076923 1.6923076923 1.6923076923 1.6923076923 1.6923076923 1.6923076923 1.6923076923 1.6923076923 1.6923076923 1.6923076923 1.6923076923 1.6923076923 1.6923076923 1.6923076923 1.6923076923 1.6923076923 1.6923076923 1.6923076923 1.6923076923 1.6923076923 1.6923076923\n",
      "  1.6923076923 1.6923076923 1.6923076923 1.6923076923 1.6923076923 1.6923076923 1.6923076923 1.6923076923 1.6923076923 1.6923076923]]\n",
      "\n",
      "------Solution pour k=2------\n",
      "x_2=\n",
      " [[2.1876832845 3.2609970674 3.2609970674 3.2609970674 3.2609970674 3.2609970674 3.2609970674 3.2609970674 3.2609970674 3.2609970674 4.3343108504 4.3343108504 4.3343108504 4.3343108504 4.3343108504 4.3343108504 4.3343108504 4.3343108504 4.3343108504 4.3343108504 4.3343108504 4.3343108504 4.3343108504 4.3343108504 4.3343108504 4.3343108504 4.3343108504 4.3343108504 4.3343108504 4.3343108504\n",
      "  4.3343108504 4.3343108504 4.3343108504 4.3343108504 4.3343108504 4.3343108504 4.3343108504 4.3343108504 4.3343108504 4.3343108504 4.3343108504 4.3343108504 4.3343108504 4.3343108504 4.3343108504 4.3343108504 4.3343108504 4.3343108504 4.3343108504 4.3343108504 4.3343108504 4.3343108504 4.3343108504 4.3343108504 4.3343108504 4.3343108504 4.3343108504 4.3343108504 4.3343108504 4.3343108504\n",
      "  4.3343108504 4.3343108504 4.3343108504 4.3343108504 4.3343108504 4.3343108504 4.3343108504 4.3343108504 4.3343108504 4.3343108504 4.3343108504 4.3343108504 4.3343108504 4.3343108504 4.3343108504 4.3343108504 4.3343108504 4.3343108504 4.3343108504 4.3343108504 4.3343108504 4.3343108504 4.3343108504 4.3343108504 4.3343108504 4.3343108504 4.3343108504 4.3343108504 4.3343108504 4.3343108504\n",
      "  3.2609970674 3.2609970674 3.2609970674 3.2609970674 3.2609970674 3.2609970674 3.2609970674 3.2609970674 3.2609970674 2.1876832845]]\n",
      "\n",
      "------Solution pour k=3------\n",
      "x_3=\n",
      " [[3.0430926238 4.1193663007 4.6240282119 4.6240282119 4.6240282119 4.6240282119 4.6240282119 4.6240282119 4.6240282119 5.1286901232 6.2049638001 7.2142876226 7.2142876226 7.2142876226 7.2142876226 7.2142876226 7.2142876226 7.2142876226 7.2142876226 7.2142876226 7.7189495338 7.7189495338 7.7189495338 7.7189495338 7.7189495338 7.7189495338 7.7189495338 7.7189495338 7.7189495338 7.7189495338\n",
      "  7.7189495338 7.7189495338 7.7189495338 7.7189495338 7.7189495338 7.7189495338 7.7189495338 7.7189495338 7.7189495338 7.7189495338 7.7189495338 7.7189495338 7.7189495338 7.7189495338 7.7189495338 7.7189495338 7.7189495338 7.7189495338 7.7189495338 7.7189495338 7.7189495338 7.7189495338 7.7189495338 7.7189495338 7.7189495338 7.7189495338 7.7189495338 7.7189495338 7.7189495338 7.7189495338\n",
      "  7.7189495338 7.7189495338 7.7189495338 7.7189495338 7.7189495338 7.7189495338 7.7189495338 7.7189495338 7.7189495338 7.7189495338 7.7189495338 7.7189495338 7.7189495338 7.7189495338 7.7189495338 7.7189495338 7.7189495338 7.7189495338 7.7189495338 7.7189495338 7.2142876226 7.2142876226 7.2142876226 7.2142876226 7.2142876226 7.2142876226 7.2142876226 7.2142876226 7.2142876226 6.2049638001\n",
      "  5.1286901232 4.6240282119 4.6240282119 4.6240282119 4.6240282119 4.6240282119 4.6240282119 4.6240282119 4.1193663007 3.0430926238]]\n",
      "\n",
      "------Solution pour k=4------\n",
      "x_4=\n",
      " [[ 4.0233297219  5.2383804307  5.7657048534  6.0374154447  6.0374154447  6.0374154447  6.0374154447  6.0374154447  6.3091260359  6.8364504586  8.3232117587  9.3778606041 10.1929923778 10.1929923778 10.1929923778 10.1929923778 10.1929923778 10.1929923778 10.1929923778 10.7364135602 11.2637379829 12.0788697566 12.0788697566 12.0788697566 12.0788697566 12.0788697566 12.0788697566 12.0788697566\n",
      "  12.0788697566 12.0788697566 12.3505803479 12.3505803479 12.3505803479 12.3505803479 12.3505803479 12.3505803479 12.3505803479 12.3505803479 12.3505803479 12.3505803479 12.3505803479 12.3505803479 12.3505803479 12.3505803479 12.3505803479 12.3505803479 12.3505803479 12.3505803479 12.3505803479 12.3505803479 12.3505803479 12.3505803479 12.3505803479 12.3505803479 12.3505803479 12.3505803479\n",
      "  12.3505803479 12.3505803479 12.3505803479 12.3505803479 12.3505803479 12.3505803479 12.3505803479 12.3505803479 12.3505803479 12.3505803479 12.3505803479 12.3505803479 12.3505803479 12.3505803479 12.0788697566 12.0788697566 12.0788697566 12.0788697566 12.0788697566 12.0788697566 12.0788697566 12.0788697566 12.0788697566 11.2637379829 10.7364135602 10.1929923778 10.1929923778 10.1929923778\n",
      "  10.1929923778 10.1929923778 10.1929923778 10.1929923778  9.3778606041  8.3232117587  6.8364504586  6.3091260359  6.0374154447  6.0374154447  6.0374154447  6.0374154447  6.0374154447  5.7657048534  5.2383804307  4.0233297219]]\n",
      "\n",
      "------Solution pour k=5------\n",
      "x_5=\n",
      " [[ 4.6979617884  6.4054607099  7.0475167453  7.3068205818  7.4382866442  7.4382866442  7.4382866442  7.5697527066  7.829056543   8.4711125784 10.4379153364 11.5905613448 12.3684728542 12.8943371038 12.8943371038 12.8943371038 12.8943371038 12.8943371038 13.288735291  13.8073429639 14.8437971865 15.6217086959 16.4105050703 16.4105050703 16.4105050703 16.4105050703 16.4105050703 16.4105050703\n",
      "  16.4105050703 16.8049032575 17.064207094  17.5900713436 17.5900713436 17.5900713436 17.5900713436 17.5900713436 17.5900713436 17.5900713436 17.5900713436 17.5900713436 17.721537406  17.721537406  17.721537406  17.721537406  17.721537406  17.721537406  17.721537406  17.721537406  17.721537406  17.721537406  17.721537406  17.721537406  17.721537406  17.721537406  17.721537406  17.721537406\n",
      "  17.721537406  17.721537406  17.721537406  17.721537406  17.5900713436 17.5900713436 17.5900713436 17.5900713436 17.5900713436 17.5900713436 17.5900713436 17.5900713436 17.5900713436 17.064207094  16.8049032575 16.4105050703 16.4105050703 16.4105050703 16.4105050703 16.4105050703 16.4105050703 16.4105050703 15.6217086959 14.8437971865 13.8073429639 13.288735291  12.8943371038 12.8943371038\n",
      "  12.8943371038 12.8943371038 12.8943371038 12.3684728542 11.5905613448 10.4379153364  8.4711125784  7.829056543   7.5697527066  7.4382866442  7.4382866442  7.4382866442  7.3068205818  7.0475167453  6.4054607099  4.6979617884]]\n",
      "\n",
      "------Solution pour k=6------\n",
      "x_6=\n",
      " [[ 5.3930048397  7.4206334617  8.2646415832  8.6425435461  8.7713404794  8.8369840382  8.9026275969  9.0314245303  9.3436829344 10.1876910559 12.4619345233 14.021153833  14.7609983693 15.2761861026 15.6044038963 15.6044038963 15.6044038963 15.8669781313 16.2533689312 16.9435292983 18.1739282198 19.1107034323 19.8834850322 20.5399206197 20.5399206197 20.5399206197 20.5399206197 20.5399206197\n",
      "  20.9337819722 21.3201727722 22.0919360876 22.6071238208 23.2635594083 23.2635594083 23.2635594083 23.2635594083 23.2635594083 23.2635594083 23.2635594083 23.5261336433 23.6549305766 23.9831483704 23.9831483704 23.9831483704 23.9831483704 23.9831483704 23.9831483704 23.9831483704 23.9831483704 23.9831483704 23.9831483704 23.9831483704 23.9831483704 23.9831483704 23.9831483704 23.9831483704\n",
      "  23.9831483704 23.9831483704 23.9831483704 23.6549305766 23.5261336433 23.2635594083 23.2635594083 23.2635594083 23.2635594083 23.2635594083 23.2635594083 23.2635594083 22.6071238208 22.0919360876 21.3201727722 20.9337819722 20.5399206197 20.5399206197 20.5399206197 20.5399206197 20.5399206197 19.8834850322 19.1107034323 18.1739282198 16.9435292983 16.2533689312 15.8669781313 15.6044038963\n",
      "  15.6044038963 15.6044038963 15.2761861026 14.7609983693 14.021153833  12.4619345233 10.1876910559  9.3436829344  9.0314245303  8.9026275969  8.8369840382  8.7713404794  8.6425435461  8.2646415832  7.4206334617  5.3930048397]]\n",
      "\n",
      "------Solution pour k=7------\n",
      "x_7=\n",
      " [[ 5.9036305756  8.0051049478  8.8842695022  9.3222750863  9.5400525673  9.6195368474  9.6990211274  9.8704800737 10.2521606452 11.1776437343 13.6044736653 15.3071401647 16.2832068412 16.8069277547 17.0885528179 17.2275084222 17.3433047591 17.5686048097 17.9903445791 18.8100307346 20.0646165237 21.2096582381 21.93734144   22.5005915664 22.8479805771 22.8479805771 22.8479805771 23.0795732509\n",
      "  23.4175233267 24.0013779677 24.7773336277 25.5094879477 26.0727380741 26.5359234216 26.5359234216 26.5359234216 26.5359234216 26.5359234216 26.7675160954 26.992816146  27.4190270334 27.7006520966 28.0480411073 28.0480411073 28.0480411073 28.0480411073 28.0480411073 28.0480411073 28.0480411073 28.0248818399 28.0248818399 28.0480411073 28.0480411073 28.0480411073 28.0480411073 28.0480411073\n",
      "  28.0480411073 28.0480411073 27.7006520966 27.4190270334 26.992816146  26.7675160954 26.5359234216 26.5359234216 26.5359234216 26.5359234216 26.5359234216 26.0727380741 25.5094879477 24.7773336277 24.0013779677 23.4175233267 23.0795732509 22.8479805771 22.8479805771 22.8479805771 22.5005915664 21.93734144   21.2096582381 20.0646165237 18.8100307346 17.9903445791 17.5686048097 17.3433047591\n",
      "  17.2275084222 17.0885528179 16.8069277547 16.2832068412 15.3071401647 13.6044736653 11.1776437343 10.2521606452  9.8704800737  9.6990211274  9.6195368474  9.5400525673  9.3222750863  8.8842695022  8.0051049478  5.9036305756]]\n",
      "\n",
      "------Solution pour k=8------\n",
      "x_8=\n",
      " [[ 6.0035874818  8.1399254841  9.0257759893  9.4423016493  9.6594142888  9.7717104701  9.8663444397 10.0464195653 10.4398166482 11.3627046672 13.8398741555 15.5299812287 16.5348134748 17.1019330633 17.4000854714 17.5465224365 17.6803280486 17.9082526479 18.3567407855 19.1784383362 20.4757394651 21.62060629   22.4249887805 22.9212077296 23.1989890832 23.322624566  23.4109356251 23.5961231942\n",
      "  23.9527286031 24.5308480389 25.280429492  26.0142178927 26.5634234772 26.9337986154 27.1398577534 27.1398577534 27.1398577534 27.2576058322 27.4427934013 27.7413668479 28.1192608956 28.4939495549 28.7717309085 28.9777900465 28.9777900465 28.9777900465 28.9777900465 28.9777900465 28.9424656229 28.923946866  28.923946866  28.9424656229 28.9777900465 28.9777900465 28.9777900465 28.9777900465\n",
      "  28.9777900465 28.7717309085 28.4939495549 28.1192608956 27.7413668479 27.4427934013 27.2576058322 27.1398577534 27.1398577534 27.1398577534 26.9337986154 26.5634234772 26.0142178927 25.280429492  24.5308480389 23.9527286031 23.5961231942 23.4109356251 23.322624566  23.1989890832 22.9212077296 22.4249887805 21.62060629   20.4757394651 19.1784383362 18.3567407855 17.9082526479 17.6803280486\n",
      "  17.5465224365 17.4000854714 17.1019330633 16.5348134748 15.5299812287 13.8398741555 11.3627046672 10.4398166482 10.0464195653  9.8663444397  9.7717104701  9.6594142888  9.4423016493  9.0257759893  8.1399254841  6.0035874818]]\n",
      "\n",
      "------Solution pour k=9------\n",
      "x_9=\n",
      " [[ 6.0044530875  8.1532915259  9.0435800973  9.4590111339  9.6651164587  9.7830623153  9.8917759249 10.0715651588 10.4602925201 11.3831092801 13.8666778054 15.5562638377 16.5450097535 17.1025476408 17.4065287513 17.5753806427 17.716809798  17.9544553382 18.4071102197 19.2184587985 20.5211089404 21.6517432613 22.4578727713 22.9565746963 23.2308200885 23.3715440154 23.4922504238 23.6859518564\n",
      "  24.0366541607 24.5915100194 25.3354978762 26.0386361006 26.5836710599 26.9384604118 27.1186444343 27.2056138032 27.2599696588 27.3629319574 27.54265617   27.8296548938 28.1793184897 28.5393539231 28.8244704865 29.004654509  29.1133662202 29.1133662202 29.1133662202 29.0807527068 29.0498640173 29.0219522396 29.0219522396 29.0498640173 29.0807527068 29.1133662202 29.1133662202 29.1133662202\n",
      "  29.004654509  28.8244704865 28.5393539231 28.1793184897 27.8296548938 27.54265617   27.3629319574 27.2599696588 27.2056138032 27.1186444343 26.9384604118 26.5836710599 26.0386361006 25.3354978762 24.5915100194 24.0366541607 23.6859518564 23.4922504238 23.3715440154 23.2308200885 22.9565746963 22.4578727713 21.6517432613 20.5211089404 19.2184587985 18.4071102197 17.9544553382 17.716809798\n",
      "  17.5753806427 17.4065287513 17.1025476408 16.5450097535 15.5562638377 13.8666778054 11.3831092801 10.4602925201 10.0715651588  9.8917759249  9.7830623153  9.6651164587  9.4590111339  9.0435800973  8.1532915259  6.0044530875]]\n",
      "\n",
      "------Solution pour k=10------\n",
      "x_10=\n",
      " [[ 6.0053420791  8.154241737   9.0432723134  9.4560448217  9.663074046   9.7861584933  9.9000089885 10.0845462337 10.4721093701 11.3925975089 13.8734333567 15.5608912099 16.5417936256 17.0896681203 17.3924530507 17.5760905456 17.7408612436 17.9862998008 18.4333643874 19.2381352968 20.5298016069 21.650191103  22.4381948172 22.9369345197 23.218278957  23.3902749819 23.5341515992 23.7414426409\n",
      "  24.0839123433 24.6244443605 25.3470236421 26.0318666571 26.5663856452 26.9123738179 27.1170171757 27.2359485802 27.3333343759 27.4272197695 27.602693794  27.8587739226 28.1984434628 28.5319791547 28.811723112  29.0031929452 29.1189233895 29.1782042498 29.1518572008 29.1171380675 29.0746227174 29.0464942457 29.0464942457 29.0746227174 29.1171380675 29.1518572008 29.1782042498 29.1189233895\n",
      "  29.0031929452 28.811723112  28.5319791547 28.1984434628 27.8587739226 27.602693794  27.4272197695 27.3333343759 27.2359485802 27.1170171757 26.9123738179 26.5663856452 26.0318666571 25.3470236421 24.6244443605 24.0839123433 23.7414426409 23.5341515992 23.3902749819 23.218278957  22.9369345197 22.4381948172 21.650191103  20.5298016069 19.2381352968 18.4333643874 17.9862998008 17.7408612436\n",
      "  17.5760905456 17.3924530507 17.0896681203 16.5417936256 15.5608912099 13.8734333567 11.3925975089 10.4721093701 10.0845462337  9.9000089885  9.7861584933  9.663074046   9.4560448217  9.0432723134  8.154241737   6.0053420791]]\n",
      "\n",
      "------Solution pour k=11------\n",
      "x_11=\n",
      " [[ 6.0081158511  8.1521483373  9.0356072803  9.4442534359  9.6555794627  9.7860513675  9.9090017363 10.0994565773 10.486983141  11.4029613001 13.8756260669 15.5551238136 16.5273669004 17.0708244637 17.3760143141 17.578429947  17.7669264912 18.024793216  18.4656850435 19.2596668071 20.531248571  21.635020322  22.4060464556 22.8935015583 23.1978590801 23.4025919882 23.5837036174 23.7978157746\n",
      "  24.1355713795 24.6546995754 25.3526039832 26.0164924187 26.5307032969 26.8876439571 27.1222683489 27.2806765131 27.3825177784 27.495907329  27.6503475682 27.88922659   28.2064097326 28.5235917348 28.794115308  28.9959524776 29.1225510423 29.1856422241 29.1834062682 29.1376183031 29.0892509579 29.058338064  29.058338064  29.0892509579 29.1376183031 29.1834062682 29.1856422241 29.1225510423\n",
      "  28.9959524776 28.794115308  28.5235917348 28.2064097326 27.88922659   27.6503475682 27.495907329  27.3825177784 27.2806765131 27.1222683489 26.8876439571 26.5307032969 26.0164924187 25.3526039832 24.6546995754 24.1355713795 23.7978157746 23.5837036174 23.4025919882 23.1978590801 22.8935015583 22.4060464556 21.635020322  20.531248571  19.2596668071 18.4656850435 18.024793216  17.7669264912\n",
      "  17.578429947  17.3760143141 17.0708244637 16.5273669004 15.5551238136 13.8756260669 11.4029613001 10.486983141  10.0994565773  9.9090017363  9.7860513675  9.6555794627  9.4442534359  9.0356072803  8.1521483373  6.0081158511]]\n",
      "\n",
      "------Solution pour k=12------\n",
      "x_12=\n",
      " [[ 6.0073140763  8.148329596   9.0272944305  9.4360286067  9.6481996149  9.7856243329  9.916934637  10.1111825682 10.4977729298 11.409272838  13.8745433801 15.5434435947 16.5094752503 17.051624627  17.3710581714 17.5850192569 17.7834624287 18.0455613147 18.4892791501 19.2708669499 20.5309531762 21.6204864183 22.3847241117 22.8777337608 23.1932459303 23.4160550595 23.6022810794 23.8294746252\n",
      "  24.1584636297 24.6690690158 25.3536108519 26.0042735805 26.5147661584 26.878157626  27.1235922635 27.2830404837 27.4005231295 27.5096131229 27.6662502161 27.9018579943 28.2079658016 28.5252578598 28.7930909153 28.9952705123 29.1233117716 29.1765626205 29.1814256964 29.1472916233 29.0975498356 29.064869199  29.064869199  29.0975498356 29.1472916233 29.1814256964 29.1765626205 29.1233117716\n",
      "  28.9952705123 28.7930909153 28.5252578598 28.2079658016 27.9018579943 27.6662502161 27.5096131229 27.4005231295 27.2830404837 27.1235922635 26.878157626  26.5147661584 26.0042735805 25.3536108519 24.6690690158 24.1584636297 23.8294746252 23.6022810794 23.4160550595 23.1932459303 22.8777337608 22.3847241117 21.6204864183 20.5309531762 19.2708669499 18.4892791501 18.0455613147 17.7834624287\n",
      "  17.5850192569 17.3710581714 17.051624627  16.5094752503 15.5434435947 13.8745433801 11.409272838  10.4977729298 10.1111825682  9.916934637   9.7856243329  9.6481996149  9.4360286067  9.0272944305  8.148329596   6.0073140763]]\n",
      "\n",
      "------Solution pour k=13------\n",
      "x_13=\n",
      " [[ 6.004745079   8.1412301929  9.0179101382  9.4261281422  9.6444613773  9.7880077369  9.9251732813 10.1223480135 10.5095212756 11.414511769  13.8715595411 15.5304683654 16.4900278331 17.0378353288 17.3664829432 17.5938016563 17.7971834542 18.0665693625 18.506411946  19.2816214708 20.5293438627 21.6068876334 22.3684320799 22.8687299497 23.196172272  23.422605697  23.618536153  23.844712495\n",
      "  24.1768285014 24.6791823626 25.3533764635 25.9971243923 26.5071582203 26.8729602463 27.1186201315 27.2789929121 27.4008395738 27.518226927  27.6750845889 27.9084507437 28.213407746  28.5267224629 28.796044967  28.9931985441 29.1164801344 29.1736419639 29.1783757652 29.1496121918 29.1062909524 29.0724832428 29.0724832428 29.1062909524 29.1496121918 29.1783757652 29.1736419639 29.1164801344\n",
      "  28.9931985441 28.796044967  28.5267224629 28.213407746  27.9084507437 27.6750845889 27.518226927  27.4008395738 27.2789929121 27.1186201315 26.8729602463 26.5071582203 25.9971243923 25.3533764635 24.6791823626 24.1768285014 23.844712495  23.618536153  23.422605697  23.196172272  22.8687299497 22.3684320799 21.6068876334 20.5293438627 19.2816214708 18.506411946  18.0665693625 17.7971834542\n",
      "  17.5938016563 17.3664829432 17.0378353288 16.4900278331 15.5304683654 13.8715595411 11.414511769  10.5095212756 10.1223480135  9.9251732813  9.7880077369  9.6444613773  9.4261281422  9.0179101382  8.1412301929  6.004745079 ]]\n",
      "\n",
      "------Solution pour k=14------\n",
      "x_14=\n",
      " [[ 6.0023107254  8.1360522823  9.0114566181  9.4224510958  9.6443564931  9.7919182094  9.9291851829 10.1285419078 10.5139071684 11.4171509837 13.8687382586 15.5237454792 16.4836780833 17.0344717207 17.3672137118 17.5956786499 17.8050160392 18.0729835663 18.5131957451 19.2851158908 20.527803625  21.6029259836 22.3641786933 22.8666684962 23.1944806182 23.4233555079 23.6199421782 23.8488208301\n",
      "  24.1807579768 24.6826903037 25.354939188  25.9970239968 26.5070278145 26.8704832226 27.1145232052 27.2779261241 27.3982249553 27.519557339  27.680004448  27.911916914  28.2168979995 28.5288248149 28.7945823906 28.9900855563 29.1128204745 29.1716910577 29.1787355855 29.1503225184 29.1080602476 29.0774667829 29.0774667829 29.1080602476 29.1503225184 29.1787355855 29.1716910577 29.1128204745\n",
      "  28.9900855563 28.7945823906 28.5288248149 28.2168979995 27.911916914  27.680004448  27.519557339  27.3982249553 27.2779261241 27.1145232052 26.8704832226 26.5070278145 25.9970239968 25.354939188  24.6826903037 24.1807579768 23.8488208301 23.6199421782 23.4233555079 23.1944806182 22.8666684962 22.3641786933 21.6029259836 20.527803625  19.2851158908 18.5131957451 18.0729835663 17.8050160392\n",
      "  17.5956786499 17.3672137118 17.0344717207 16.4836780833 15.5237454792 13.8687382586 11.4171509837 10.5139071684 10.1285419078  9.9291851829  9.7919182094  9.6443564931  9.4224510958  9.0114566181  8.1360522823  6.0023107254]]\n",
      "\n",
      "------Solution pour k=15------\n",
      "x_15=\n",
      " [[ 6.0002206652  8.132448307   9.0083910636  9.4214803062  9.6455858982  9.7935751597  9.9330537639 10.1310017002 10.5162280505 11.4176967467 13.8666854822 15.5206156369 16.4814890701 17.0340949176 17.367475856  17.5977015612 17.8067043425 18.0760357398 18.5152501129 19.2862914047 20.5274890855 21.6020409258 22.3639750034 22.8651141959 23.1920975124 23.4219465048 23.6190489111 23.8494487273\n",
      "  24.1824607256 24.6843528356 25.3568273196 25.9986991781 26.5064290606 26.8686303729 27.1125563293 27.2764159567 27.3984205254 27.519701432  27.6815817345 27.9158189492 28.2196434458 28.5298471242 28.7935105751 28.9880114565 29.1107106946 29.1697450046 29.1774436616 29.1504306544 29.1099256681 29.0803377316 29.0803377316 29.1099256681 29.1504306544 29.1774436616 29.1697450046 29.1107106946\n",
      "  28.9880114565 28.7935105751 28.5298471242 28.2196434458 27.9158189492 27.6815817345 27.519701432  27.3984205254 27.2764159567 27.1125563293 26.8686303729 26.5064290606 25.9986991781 25.3568273196 24.6843528356 24.1824607256 23.8494487273 23.6190489111 23.4219465048 23.1920975124 22.8651141959 22.3639750034 21.6020409258 20.5274890855 19.2862914047 18.5152501129 18.0760357398 17.8067043425\n",
      "  17.5977015612 17.367475856  17.0340949176 16.4814890701 15.5206156369 13.8666854822 11.4176967467 10.5162280505 10.1310017002  9.9330537639  9.7935751597  9.6455858982  9.4214803062  9.0083910636  8.132448307   6.0002206652]]\n",
      "\n",
      "------Solution pour k=16------\n",
      "x_16=\n",
      " [[ 5.9992438369  8.1315868838  9.0084426516  9.422021945   9.6458779703  9.7945693059  9.9334606747 10.1319002227 10.5163366559 11.4172669484 13.8660612986 15.5201002262 16.4814576688 17.0337491831 17.3673824083 17.597707383  17.8066904943 18.0760204099 18.5156379877 19.2863837822 20.528064999  21.6027545901 22.3636593257 22.8642673648 23.1912178399 23.4208367962 23.6189915123 23.8493815647\n",
      "  24.1830434625 24.6860019032 25.3581449254 25.9991280327 26.5060148151 26.8674754861 27.1113935282 27.2751283787 27.3980967895 27.5200897065 27.6824062615 27.9174326457 28.221585031  28.5308405565 28.7935380104 28.9870370469 29.1093821302 29.1681398876 29.1761391103 29.1500674051 29.1111111561 29.0823421758 29.0823421758 29.1111111561 29.1500674051 29.1761391103 29.1681398876 29.1093821302\n",
      "  28.9870370469 28.7935380104 28.5308405565 28.221585031  27.9174326457 27.6824062615 27.5200897065 27.3980967895 27.2751283787 27.1113935282 26.8674754861 26.5060148151 25.9991280327 25.3581449254 24.6860019032 24.1830434625 23.8493815647 23.6189915123 23.4208367962 23.1912178399 22.8642673648 22.3636593257 21.6027545901 20.528064999  19.2863837822 18.5156379877 18.0760204099 17.8066904943\n",
      "  17.597707383  17.3673824083 17.0337491831 16.4814576688 15.5201002262 13.8660612986 11.4172669484 10.5163366559 10.1319002227  9.9334606747  9.7945693059  9.6458779703  9.422021945   9.0084426516  8.1315868838  5.9992438369]]\n",
      "\n",
      "------Solution pour k=17------\n",
      "x_17=\n",
      " [[ 5.9990489792  8.1318235037  9.0090958919  9.4223014716  9.6462563765  9.7945037442  9.9333475262 10.1315172386 10.5161329698 11.4169001142 13.865937212  15.5205307904 16.481499252  17.0336292766 17.366860764  17.5970583066 17.8064020771 18.0757846266 18.5154736804 19.2871267283 20.5288952006 21.6031025682 22.3634223636 22.8633494955 23.190271081  23.4201004474 23.6184971878 23.8496446636\n",
      "  24.1839590344 24.6873609274 25.3599085406 25.9999563581 26.5056696095 26.8662867054 27.1096301847 27.2734549882 27.3969401547 27.5200998604 27.683835875  27.9195491575 28.2237868644 28.5323349722 28.793459786  28.9857394213 29.107314295  29.1660651186 29.1748580781 29.1501679    29.1123271262 29.0849068575 29.0849068575 29.1123271262 29.1501679    29.1748580781 29.1660651186 29.107314295\n",
      "  28.9857394213 28.793459786  28.5323349722 28.2237868644 27.9195491575 27.683835875  27.5200998604 27.3969401547 27.2734549882 27.1096301847 26.8662867054 26.5056696095 25.9999563581 25.3599085406 24.6873609274 24.1839590344 23.8496446636 23.6184971878 23.4201004474 23.190271081  22.8633494955 22.3634223636 21.6031025682 20.5288952006 19.2871267283 18.5154736804 18.0757846266 17.8064020771\n",
      "  17.5970583066 17.366860764  17.0336292766 16.481499252  15.5205307904 13.865937212  11.4169001142 10.5161329698 10.1315172386  9.9333475262  9.7945037442  9.6462563765  9.4223014716  9.0090958919  8.1318235037  5.9990489792]]\n",
      "\n",
      "------Solution pour k=18------\n",
      "x_18=\n",
      " [[ 5.999506834   8.1324617211  9.0091935418  9.4223798584  9.6459782935  9.7939739615  9.9329308597 10.1310054894 10.5157831716 11.4172710359 13.8664579374 15.5208643808 16.4817709767 17.0333764633 17.3664791662 17.5965534766 17.8059019524 18.0756129509 18.5157830346 19.2875968052 20.5295503161 21.6034453063 22.3632617728 22.8629009825 23.1893130114 23.4192712761 23.6178861928 23.8497086958\n",
      "  24.1846574772 24.6885391124 25.3610510468 26.000863667  26.5056345634 26.8653302976 27.108186363  27.2721025517 27.3959685289 27.5201745025 27.6848695908 27.921377182  28.2256121256 28.5332597106 28.7934414806 28.9846185569 29.1054910508 29.1643974749 29.1739356062 29.1502520853 29.1137281146 29.0867180538 29.0867180538 29.1137281146 29.1502520853 29.1739356062 29.1643974749 29.1054910508\n",
      "  28.9846185569 28.7934414806 28.5332597106 28.2256121256 27.921377182  27.6848695908 27.5201745025 27.3959685289 27.2721025517 27.108186363  26.8653302976 26.5056345634 26.000863667  25.3610510468 24.6885391124 24.1846574772 23.8497086958 23.6178861928 23.4192712761 23.1893130114 22.8629009825 22.3632617728 21.6034453063 20.5295503161 19.2875968052 18.5157830346 18.0756129509 17.8059019524\n",
      "  17.5965534766 17.3664791662 17.0333764633 16.4817709767 15.5208643808 13.8664579374 11.4172710359 10.5157831716 10.1310054894  9.9329308597  9.7939739615  9.6459782935  9.4223798584  9.0091935418  8.1324617211  5.999506834 ]]\n",
      "\n",
      "------Solution pour k=19------\n",
      "x_19=\n",
      " [[ 5.9999823952  8.1325971239  9.0091733151  9.4220727643  9.6455034018  9.7936308532  9.9324877142 10.1309241584 10.5159759089 11.4176669746 13.867118394  15.5212206469 16.4817361104 17.0332928817 17.3660995018 17.5961661249 17.805503604  18.0755321011 18.5160750938 19.2880297992 20.5299103423 21.603832736  22.3634467766 22.8626258473 23.1888201455 23.4185435118 23.6174231867 23.8495579599\n",
      "  24.1850059018 24.6891509618 25.3615928276 26.001172668  26.5057458598 26.8649879024 27.1074836214 27.2714061916 27.395691604  27.5202366205 27.6854055016 27.9221239126 28.226263593  28.5338068818 28.7934344519 28.984114141  29.1046996817 29.1635919244 29.1734240953 29.1503766151 29.1143040668 29.0875737911 29.0875737911 29.1143040668 29.1503766151 29.1734240953 29.1635919244 29.1046996817\n",
      "  28.984114141  28.7934344519 28.5338068818 28.226263593  27.9221239126 27.6854055016 27.5202366205 27.395691604  27.2714061916 27.1074836214 26.8649879024 26.5057458598 26.001172668  25.3615928276 24.6891509618 24.1850059018 23.8495579599 23.6174231867 23.4185435118 23.1888201455 22.8626258473 22.3634467766 21.603832736  20.5299103423 19.2880297992 18.5160750938 18.0755321011 17.805503604\n",
      "  17.5961661249 17.3660995018 17.0332928817 16.4817361104 15.5212206469 13.867118394  11.4176669746 10.5159759089 10.1309241584  9.9324877142  9.7936308532  9.6455034018  9.4220727643  9.0091733151  8.1325971239  5.9999823952]]\n",
      "\n",
      "------Solution pour k=20------\n",
      "x_20=\n",
      " [[ 6.000079195   8.1326451492  9.0090449423  9.4218175243  9.6452288658  9.7933427393  9.9323590607 10.1310176525 10.516371241  11.4180135594 13.8675060947 15.5215288501 16.4818017491 17.032992897  17.3656925333 17.5956422792 17.8051774206 18.0754720488 18.5162916819 19.2884865001 20.5304424864 21.6041605902 22.363583683  22.8625365004 23.1884053956 23.4181077678 23.6170755065 23.8494845633\n",
      "  24.1852121385 24.6894532724 25.3618582863 26.0014144741 26.5058139862 26.8648610789 27.1071993347 27.2710013373 27.3954671227 27.5202967083 27.6856360559 27.9223741507 28.22653719   28.5339994058 28.7935598596 28.9839538258 29.104382075  29.1632180525 29.1732561067 29.1503805085 29.1145075747 29.0878969772 29.0878969772 29.1145075747 29.1503805085 29.1732561067 29.1632180525 29.104382075\n",
      "  28.9839538258 28.7935598596 28.5339994058 28.22653719   27.9223741507 27.6856360559 27.5202967083 27.3954671227 27.2710013373 27.1071993347 26.8648610789 26.5058139862 26.0014144741 25.3618582863 24.6894532724 24.1852121385 23.8494845633 23.6170755065 23.4181077678 23.1884053956 22.8625365004 22.363583683  21.6041605902 20.5304424864 19.2884865001 18.5162916819 18.0754720488 17.8051774206\n",
      "  17.5956422792 17.3656925333 17.032992897  16.4818017491 15.5215288501 13.8675060947 11.4180135594 10.516371241  10.1310176525  9.9323590607  9.7933427393  9.6452288658  9.4218175243  9.0090449423  8.1326451492  6.000079195 ]]\n",
      "\n",
      "------Solution pour k=21------\n",
      "x_21=\n",
      " [[ 6.000061558   8.1326815159  9.0090289504  9.4217355924  9.6451235076  9.7932102756  9.932347919  10.1310857675 10.5164492863 11.418213866  13.8676406373 15.5216260566 16.481806031  17.03286177   17.3654172803 17.595403554  17.8050270342 18.0754772757 18.516469919  19.2887057847 20.5306817612 21.6043600768 22.3636207024 22.8624197108 23.1882489215 23.4178800764 23.6169462272 23.8494957855\n",
      "  24.1852825095 24.689583591  25.3620634311 26.0015420694 26.5058832279 26.8648381847 27.1070661282 27.2708691336 27.3953262001 27.5202519405 27.6856643052 27.9224613582 28.2266181306 28.5340667293 28.7935728503 28.9839741776 29.1042991568 29.1631431084 29.1732013986 29.1504104205 29.1145378461 29.0879200411 29.0879200411 29.1145378461 29.1504104205 29.1732013986 29.1631431084 29.1042991568\n",
      "  28.9839741776 28.7935728503 28.5340667293 28.2266181306 27.9224613582 27.6856643052 27.5202519405 27.3953262001 27.2708691336 27.1070661282 26.8648381847 26.5058832279 26.0015420694 25.3620634311 24.689583591  24.1852825095 23.8494957855 23.6169462272 23.4178800764 23.1882489215 22.8624197108 22.3636207024 21.6043600768 20.5306817612 19.2887057847 18.516469919  18.0754772757 17.8050270342\n",
      "  17.595403554  17.3654172803 17.03286177   16.481806031  15.5216260566 13.8676406373 11.418213866  10.5164492863 10.1310857675  9.932347919   9.7932102756  9.6451235076  9.4217355924  9.0090289504  8.1326815159  6.000061558 ]]\n",
      "\n",
      "------Solution pour k=22------\n",
      "x_22=\n",
      " [[ 6.000081357   8.1326879626  9.0090592786  9.4217372894  9.6450539099  9.7931865625  9.932322956  10.1310815121 10.5164608041 11.4182469831 13.8676824364 15.5216463178 16.4817792959 17.0328055057 17.3653352912 17.5953156183 17.8050092351 18.0755330992 18.5165277898 19.2888035738 20.530758054  21.6044219242 22.3636259487 22.8623540762 23.1881397361 23.4178037286 23.6168945131 23.8494906196\n",
      "  24.1853277556 24.6896750875 25.3621722592 26.0016413631 26.5059144627 26.8648291519 27.1070283997 27.2708149811 27.3952777812 27.5202045462 27.685631962  27.9224650557 28.2266518243 28.5340855956 28.7935901167 28.9839842776 29.1043192533 29.1631545242 29.173202638  29.1503932735 29.1145168576 29.087880164  29.087880164  29.1145168576 29.1503932735 29.173202638  29.1631545242 29.1043192533\n",
      "  28.9839842776 28.7935901167 28.5340855956 28.2266518243 27.9224650557 27.685631962  27.5202045462 27.3952777812 27.2708149811 27.1070283997 26.8648291519 26.5059144627 26.0016413631 25.3621722592 24.6896750875 24.1853277556 23.8494906196 23.6168945131 23.4178037286 23.1881397361 22.8623540762 22.3636259487 21.6044219242 20.530758054  19.2888035738 18.5165277898 18.0755330992 17.8050092351\n",
      "  17.5953156183 17.3653352912 17.0328055057 16.4817792959 15.5216463178 13.8676824364 11.4182469831 10.5164608041 10.1310815121  9.932322956   9.7931865625  9.6450539099  9.4217372894  9.0090592786  8.1326879626  6.000081357 ]]\n",
      "\n",
      "------Solution pour k=23------\n",
      "x_23=\n",
      " [[ 6.0000951085  8.1326973735  9.0090558807  9.4217301933  9.6450541771  9.7931701155  9.9323157898 10.1310786714 10.5164656469 11.4182419329 13.867689291  15.5216460019 16.4817801595 17.0327933668 17.3653168844 17.5953201461 17.8050136726 18.0755356948 18.5165396832 19.2888163984 20.5307808281 21.6044271471 22.3636185126 22.862340587  23.1881146694 23.4177804429 23.616887716  23.8494892425\n",
      "  24.1853378822 24.6897049935 25.3621972356 26.0016628889 26.5059259777 26.8648192916 27.1070203321 27.2708081145 27.3952720086 27.5201916658 27.6856239243 27.9224604906 28.226655755  28.5341022984 28.7935967862 28.9839867375 29.1043329861 29.1631653705 29.1732026523 29.1503765444 29.1144953447 29.0878726783 29.0878726783 29.1144953447 29.1503765444 29.1732026523 29.1631653705 29.1043329861\n",
      "  28.9839867375 28.7935967862 28.5341022984 28.226655755  27.9224604906 27.6856239243 27.5201916658 27.3952720086 27.2708081145 27.1070203321 26.8648192916 26.5059259777 26.0016628889 25.3621972356 24.6897049935 24.1853378822 23.8494892425 23.616887716  23.4177804429 23.1881146694 22.862340587  22.3636185126 21.6044271471 20.5307808281 19.2888163984 18.5165396832 18.0755356948 17.8050136726\n",
      "  17.5953201461 17.3653168844 17.0327933668 16.4817801595 15.5216460019 13.867689291  11.4182419329 10.5164656469 10.1310786714  9.9323157898  9.7931701155  9.6450541771  9.4217301933  9.0090558807  8.1326973735  6.0000951085]]\n",
      "Wall time: 155 ms\n"
     ]
    }
   ],
   "source": [
    "%%time\n",
    "X,Err_rel,Res_rel= gmres(A,b,xexact);"
   ]
  },
  {
   "cell_type": "code",
   "execution_count": 395,
   "metadata": {},
   "outputs": [
    {
     "data": {
      "image/png": "[encoded data removed]",
      "text/plain": [
       "<Figure size 648x432 with 2 Axes>"
      ]
     },
     "metadata": {
      "needs_background": "light"
     },
     "output_type": "display_data"
    }
   ],
   "source": [
    "plot_erreur_residu(Err_rel,Res_rel)"
   ]
  },
  {
   "cell_type": "markdown",
   "metadata": {},
   "source": [
    "***Conclusion de la comparaison:***"
   ]
  },
  {
   "cell_type": "markdown",
   "metadata": {},
   "source": [
    "En utilisant la commande $%%time$ on a trouvé que le temps de calcule est quasi similaire en utilisant le `gradient conjugué` et le `GMRES` comme illustré dans le tableau suivant:\n",
    "\n",
    "$$Pour: \\, \\, \\, n= 9$$\n",
    "$$\n",
    "\\begin{array}{|l|c|c|c|c|c|}\n",
    "\\hline\n",
    "\\text{Algo} & GMRES&Gradient \\, Conjugue \\\\\n",
    "\\hline\n",
    "\\text{Temps (ms)} & 14&7 \\\\\n",
    "\\hline\n",
    "\\end{array}\n",
    "$$\n",
    "***Quand n assez petit***\n",
    "Les deux méthodes sont rapide avec un léger avantage pour `GMRES` pour la précision. Le `Gradient Conjugué` a pris dans cette exemple 2 à 3 itérations tandis que `GMRES` a mis pareil pour avoir le meme resultat et 3 autre pour ameliorer la précision . Ceci est justifié par la complexité vue en cours qui est $ << n$ pour `GMRES` et $ <n $ pour le `Gradient Conjugué`. Cependant dans le cas de matirices $S^{++}(\\mathbb C)$ le `Gradient Conjugué` est recommendé.\n",
    "\n",
    "On pourra également vérifier ceci dans le cas de n = 100 et la notion de temps est encore plus visible:\n",
    "\n",
    "$$Pour: \\, \\, \\, n= 100$$\n",
    "$$\n",
    "\\begin{array}{|l|c|c|c|c|c|}\n",
    "\\hline\n",
    "\\text{Algo} & GMRES&Gradient \\, Conjugue \\\\\n",
    "\\hline\n",
    "\\text{Temps (ms)} & 1010&267 \\\\\n",
    "\\hline\n",
    "\\end{array}\n",
    "$$\n",
    "\n",
    "***Quand n assez grand***\n",
    "Quand n assez grande le`gradient conjugué` gagne la comparaison au détriment de la précision de `GMRES` mais sans en perdre n'en plus! Ile est claire que le stockage `CSR` est grand facteur pour la rapidité. \n"
   ]
  },
  {
   "cell_type": "markdown",
   "metadata": {},
   "source": [
    "# Partie 3: Préconditionnement"
   ]
  },
  {
   "cell_type": "markdown",
   "metadata": {},
   "source": [
    "On redéfini l'algo de GMRES avec moins d'affichage:"
   ]
  },
  {
   "cell_type": "code",
   "execution_count": 396,
   "metadata": {},
   "outputs": [],
   "source": [
    "def GMRES(A,b,xexact,eps = eps,iter_limit = True):\n",
    "    \n",
    "    \"\"\"Initialisation\"\"\"\n",
    "    cpt = 0 #pour calculer le nombre d'iteration\n",
    "    n=A.shape[0]\n",
    "    x0=np.zeros_like(b)\n",
    "    #print(\"\\n------Solution pour k=\"+str(cpt)+\"------\\nx_0=\\n\",x0)\n",
    "    r0 = b-A@x0\n",
    "    v0= r0/sp.linalg.norm(r0)\n",
    "    \n",
    "    V = v0.reshape((n,1))\n",
    "    H = np.array([]).reshape(1,0)\n",
    "    \n",
    "    err_rel = sp.linalg.norm(xexact-x0)/ sp.linalg.norm(xexact)\n",
    "    res_rel = sp.linalg.norm(r0)/ sp.linalg.norm(r0)\n",
    "    \n",
    "    X = x0\n",
    "    Err_rel = np.array([err_rel])\n",
    "    Res_rel = np.array([res_rel])\n",
    "    \n",
    "    while (res_rel > eps):\n",
    "        \n",
    "        if(iter_limit and (cpt>n)):\n",
    "            X = X.reshape(int(len(X)/n),n)\n",
    "            return X,Err_rel,Res_rel\n",
    "        \n",
    "        \"\"\"calcul de V,H,Q et R\"\"\"\n",
    "        V,H = Arnoldi(A,V,H)\n",
    "        Q,R = sp.linalg.qr(H)\n",
    "        \n",
    "        \"\"\"solve y tq R'y=Q'\"\"\"\n",
    "        C= sp.linalg.norm(r0)*np.transpose(Q)[0:-1,0:1]#(k+1,1)\n",
    "        #print(\"\\nC=\\n\",C.shape)\n",
    "        y = np.linalg.solve(R[0:-1,:],C) #(k+1,1)\n",
    "        #print(\"y=\\n\",y.shape)\n",
    "        x = V[:,0:-1]@y\n",
    "        \n",
    "        rk = b-A@x\n",
    "        \n",
    "        err_rel = sp.linalg.norm(xexact-x)/ sp.linalg.norm(xexact)\n",
    "        res_rel = sp.linalg.norm(rk)/ sp.linalg.norm(r0)\n",
    "        \n",
    "        cpt+=1\n",
    "        #print(\"\\n------Solution pour k=\"+str(cpt)+\"------\\nx_\"+str(cpt)+\"=\\n\",x.T)\n",
    "        X = np.append(X,x)\n",
    "        Err_rel = np.append(Err_rel,err_rel)\n",
    "        Res_rel = np.append(Res_rel,res_rel)\n",
    "        \n",
    "    X = X.reshape(int(len(X)/n),n)\n",
    "        \n",
    "    return X,Err_rel,Res_rel"
   ]
  },
  {
   "cell_type": "markdown",
   "metadata": {},
   "source": [
    "## Question 7:"
   ]
  },
  {
   "cell_type": "markdown",
   "metadata": {},
   "source": [
    "***Préconditionnement de C et $M^{-1}C$:***"
   ]
  },
  {
   "cell_type": "markdown",
   "metadata": {},
   "source": [
    "Le préconditionnement de Jacobi est définit par M = diag(C)."
   ]
  },
  {
   "cell_type": "code",
   "execution_count": 397,
   "metadata": {},
   "outputs": [],
   "source": [
    "def matrices_C(n):\n",
    "    C= np.diag(2+np.arange(n)) - np.diag(np.ones(n-1),1) - np.diag(np.ones(n-1),-1)\n",
    "\n",
    "    xexact = np.ones(n)\n",
    "    b= C@xexact\n",
    "    M = np.diag(2+np.arange(n))\n",
    "    M_inv = np.linalg.pinv(M)\n",
    "    \n",
    "    return M_inv,C,b,xexact\n",
    "\n",
    "n=200\n",
    "M_inv,C,b,xexact = matrices_C(n)\n",
    "#print(\"\\nC=\\n\",C)\n",
    "#print(\"\\nM_inv=\\n\",M_inv)\n",
    "#print(\"\\n b=\\n\",b)\n",
    "#print(\"\\n xexact=\\n\",xexact)"
   ]
  },
  {
   "cell_type": "code",
   "execution_count": 398,
   "metadata": {},
   "outputs": [],
   "source": [
    "def plot_C(Err_rel,Res_rel,title,ax):\n",
    "    iteration=np.arange(len(Res_rel))\n",
    "    \n",
    "    ax[0].set_title(r\"L'erreur relative en echelle logarithmique\")\n",
    "    ax[0].plot(iteration, Err_rel, \"o-\",label=title);\n",
    "    #ax[0].set_xscale(\"log\")\n",
    "    ax[0].legend();\n",
    "    ax[0].set_yscale(\"log\");\n",
    "    \n",
    "    ax[1].set_title(r\" Le résidu en échelle logarithmique\")\n",
    "    ax[1].plot(iteration, Res_rel, \"o-\",label=title);\n",
    "    #ax[1].set_xscale(\"log\")\n",
    "    ax[1].set_yscale(\"log\");\n",
    "    ax[1].legend();\n",
    "    return ax"
   ]
  },
  {
   "cell_type": "code",
   "execution_count": 399,
   "metadata": {},
   "outputs": [
    {
     "name": "stdout",
     "output_type": "stream",
     "text": [
      "Wall time: 1.86 s\n"
     ]
    }
   ],
   "source": [
    "%%time\n",
    "\"\"\"C\"\"\"\n",
    "X,Err_rel,Res_rel=GMRES(C,b,xexact)"
   ]
  },
  {
   "cell_type": "code",
   "execution_count": 400,
   "metadata": {},
   "outputs": [],
   "source": [
    "C_jac=M_inv@C\n",
    "b_jac=M_inv@b"
   ]
  },
  {
   "cell_type": "code",
   "execution_count": 401,
   "metadata": {},
   "outputs": [
    {
     "name": "stdout",
     "output_type": "stream",
     "text": [
      "Wall time: 1.82 s\n"
     ]
    }
   ],
   "source": [
    "%%time\n",
    "\"\"\"M_inv@C\"\"\"\n",
    "X_M,Err_rel_M,Res_rel_M=GMRES(C_jac,b_jac,xexact)"
   ]
  },
  {
   "cell_type": "code",
   "execution_count": 402,
   "metadata": {},
   "outputs": [
    {
     "data": {
      "image/png": "[encoded data removed]",
      "text/plain": [
       "<Figure size 648x432 with 2 Axes>"
      ]
     },
     "metadata": {
      "needs_background": "light"
     },
     "output_type": "display_data"
    }
   ],
   "source": [
    "\"\"\"C et M_inv@C\"\"\"\n",
    "fig,ax = plt.subplots(2,1,figsize=(9,6),sharex=True)\n",
    "plot_C(Err_rel,Res_rel,\"C pour n=\"+str(n),ax);\n",
    "plot_C(Err_rel_M,Res_rel_M,\"M_inv@C pour n=\"+str(n),ax);\n"
   ]
  },
  {
   "cell_type": "code",
   "execution_count": 403,
   "metadata": {},
   "outputs": [
    {
     "name": "stdout",
     "output_type": "stream",
     "text": [
      "le conditionnement de C est = 160.90704910755184\n",
      "\n",
      "le conditionnement de M_inv@C est = 3.2409851646203025\n"
     ]
    }
   ],
   "source": [
    "\"\"\"C et M_inv@C\"\"\"\n",
    "print(\"le conditionnement de C est =\",np.linalg.cond(C))\n",
    "print(\"\\nle conditionnement de M_inv@C est =\",np.linalg.cond(C_jac))"
   ]
  },
  {
   "cell_type": "markdown",
   "metadata": {},
   "source": [
    "***Synthèse:***\n",
    "\n",
    "Pour un n assez grand on a les tableaux suivants:\n",
    "\n",
    "$$Pour: \\, \\, \\, n= 20$$\n",
    "$$\n",
    "\\begin{array}{|l|c|c|c|c|c|}\n",
    "\\hline\n",
    "\\text{Préconditionnement} & Jacobi \\,& Sans \\\\\n",
    "\\hline\n",
    "\\text{Temps (ms)} & 24&21 \\\\\n",
    "\\hline\n",
    "\\hline\n",
    "\\text{Conditionnement } & 3.24&17.34 \\\\\n",
    "\\hline\n",
    "\\end{array}\n",
    "$$\n",
    "\n",
    "$$Pour: \\, \\, \\, n= 100$$\n",
    "$$\n",
    "\\begin{array}{|l|c|c|c|c|c|}\n",
    "\\hline\n",
    "\\text{Préconditionnement} & Jacobi \\,& Sans \\\\\n",
    "\\hline\n",
    "\\text{Temps (ms)} & 393&383 \\\\\n",
    "\\hline\n",
    "\\hline\n",
    "\\text{Conditionnement } & 3.24&81.14 \\\\\n",
    "\\hline\n",
    "\\end{array}\n",
    "$$\n",
    "\n",
    "$$Pour: \\, \\, \\, n= 200$$\n",
    "$$\n",
    "\\begin{array}{|l|c|c|c|c|c|}\n",
    "\\hline\n",
    "\\text{Préconditionnement} & Jacobi \\,& Sans \\\\\n",
    "\\hline\n",
    "\\text{Temps (ms)} & 1750&1870 \\\\\n",
    "\\hline\n",
    "\\hline\n",
    "\\text{Conditionnement } & 3.24&160.90 \\\\\n",
    "\\hline\n",
    "\\end{array}\n",
    "$$\n",
    "\n",
    "***Commentaire:***\n",
    "\n",
    "Le temps est quasi identique mais le résultat avec préconditionnement de `Jacobi` donne de meilleur résultat en moins d'itérations possible. Cependant le résultat n'est pas satisfaisant pour les deux car le résidus est trés grand donc il faut utiliser un autre préconditionnement en l'occurence `ILU` voir en dessous. Ceci est évident car le `Cond()` doit être proche de 1 ce qui n'est pas le cas pour les deux cas mais le plus en se rapproche de 1 le mieux on converge vers la solution."
   ]
  },
  {
   "cell_type": "markdown",
   "metadata": {},
   "source": [
    "## Question 8:"
   ]
  },
  {
   "cell_type": "code",
   "execution_count": 404,
   "metadata": {},
   "outputs": [],
   "source": [
    "def matrices_D(n):\n",
    "    D= np.diag(2*np.arange(n)) - np.diag(np.ones(n-1),1) - np.diag(np.ones(n-1),-1)\n",
    "\n",
    "    xexact = np.ones(n)\n",
    "    b= D@xexact\n",
    "    M = np.diag(2+np.arange(n))\n",
    "    M_inv = np.linalg.pinv(M)\n",
    "    \n",
    "    return M_inv,D,b,xexact\n",
    "\n",
    "n=200\n",
    "M_inv,D,b,xexact = matrices_D(n)\n",
    "#print(\"\\nC=\\n\",D)\n",
    "#print(\"\\nM_inv=\\n\",M_inv)\n",
    "#print(\"\\n b=\\n\",b)\n",
    "#print(\"\\n xexact=\\n\",xexact)"
   ]
  },
  {
   "cell_type": "code",
   "execution_count": 405,
   "metadata": {},
   "outputs": [
    {
     "name": "stdout",
     "output_type": "stream",
     "text": [
      "Wall time: 2.08 s\n"
     ]
    }
   ],
   "source": [
    "%%time\n",
    "\"\"\"D\"\"\"\n",
    "X,Err_rel,Res_rel=GMRES(D,b,xexact)"
   ]
  },
  {
   "cell_type": "code",
   "execution_count": 406,
   "metadata": {},
   "outputs": [],
   "source": [
    "D_jac=M_inv@D\n",
    "b_jac=M_inv@b"
   ]
  },
  {
   "cell_type": "code",
   "execution_count": 407,
   "metadata": {},
   "outputs": [
    {
     "name": "stdout",
     "output_type": "stream",
     "text": [
      "Wall time: 1.84 s\n"
     ]
    }
   ],
   "source": [
    "%%time\n",
    "\"\"\"M_inv@C\"\"\"\n",
    "X_M,Err_rel_M,Res_rel_M=GMRES(D_jac,b_jac,xexact)"
   ]
  },
  {
   "cell_type": "code",
   "execution_count": 408,
   "metadata": {},
   "outputs": [
    {
     "data": {
      "image/png": "[encoded data removed]",
      "text/plain": [
       "<Figure size 648x432 with 2 Axes>"
      ]
     },
     "metadata": {
      "needs_background": "light"
     },
     "output_type": "display_data"
    }
   ],
   "source": [
    "\"\"\"C et M_inv@C\"\"\"\n",
    "fig,ax = plt.subplots(2,1,figsize=(9,6),sharex=True)\n",
    "plot_C(Err_rel,Res_rel,\"D pour n=\"+str(n),ax);\n",
    "plot_C(Err_rel_M,Res_rel_M,\"M_inv@D pour n=\"+str(n),ax);"
   ]
  },
  {
   "cell_type": "code",
   "execution_count": 409,
   "metadata": {},
   "outputs": [
    {
     "name": "stdout",
     "output_type": "stream",
     "text": [
      "le conditionnement de D est = 883.7359104392477\n",
      "\n",
      "le conditionnement de M_inv@D est = 9.873309620374771\n"
     ]
    }
   ],
   "source": [
    "\"\"\"D et M_inv@D\"\"\"\n",
    "print(\"le conditionnement de D est =\",np.linalg.cond(D))\n",
    "print(\"\\nle conditionnement de M_inv@D est =\",np.linalg.cond(D_jac))"
   ]
  },
  {
   "cell_type": "markdown",
   "metadata": {},
   "source": [
    "***Synthèse:***\n",
    "\n",
    "Pour un n assez grand on a les tableaux suivants:\n",
    "\n",
    "$$Pour: \\, \\, \\, n= 20$$\n",
    "$$\n",
    "\\begin{array}{|l|c|c|c|c|c|}\n",
    "\\hline\n",
    "\\text{Préconditionnement} & Jacobi \\,& Sans \\\\\n",
    "\\hline\n",
    "\\text{Temps (ms)} & 22&21 \\\\\n",
    "\\hline\n",
    "\\hline\n",
    "\\text{Conditionnement } & 9.68&85.440 \\\\\n",
    "\\hline\n",
    "\\end{array}\n",
    "$$\n",
    "\n",
    "$$Pour: \\, \\, \\, n= 100$$\n",
    "$$\n",
    "\\begin{array}{|l|c|c|c|c|c|}\n",
    "\\hline\n",
    "\\text{Préconditionnement} & Jacobi \\,& Sans \\\\\n",
    "\\hline\n",
    "\\text{Temps (ms)} & 362&373 \\\\\n",
    "\\hline\n",
    "\\hline\n",
    "\\text{Conditionnement } & 9.83&160.90 \\\\\n",
    "\\hline\n",
    "\\end{array}\n",
    "$$\n",
    "\n",
    "\n",
    "$$Pour: \\, \\, \\, n= 200$$\n",
    "$$\n",
    "\\begin{array}{|l|c|c|c|c|c|}\n",
    "\\hline\n",
    "\\text{Préconditionnement} & Jacobi \\,& Sans \\\\\n",
    "\\hline\n",
    "\\text{Temps (ms)} & 1740&1890 \\\\\n",
    "\\hline\n",
    "\\hline\n",
    "\\text{Conditionnement } & 9.89&883.73 \\\\\n",
    "\\hline\n",
    "\\end{array}\n",
    "$$\n",
    "\n"
   ]
  },
  {
   "cell_type": "markdown",
   "metadata": {},
   "source": [
    "***Conclusion:***\n",
    "\n",
    "* Plus le conditionnement est proche de 1 plus on a une convergeance vers le résultat. \n",
    "* Le conditionnement ne varie varie avec n.\n",
    "* le temps de calcule ne varie pas avec n sans ou avec preconditionnement.\n",
    "* Le conditionnement donne une idée sur la variance des elements de la diagonales autour de 1."
   ]
  },
  {
   "cell_type": "markdown",
   "metadata": {},
   "source": [
    "## Question 9:"
   ]
  },
  {
   "cell_type": "code",
   "execution_count": 459,
   "metadata": {},
   "outputs": [],
   "source": [
    "def gradient_conjugue_precond(A,b,M,xexact,eps=eps):\n",
    "     \n",
    "    \"\"\"Initialisation\"\"\"\n",
    "    cpt = 0 #pour calculer le nombre d'iteration\n",
    "    n=A.shape[0]\n",
    "    x=np.zeros_like(b)\n",
    "    #print(\"\\n------Solution initiale--------\\nx_0=\\n\",x)\n",
    "    r0 = b-A@x # pour eviter d'avoir des copie de pointeur\n",
    "    r_init = b-A@x\n",
    "    #print(\"check=\",r0)\n",
    "    \"\"\"trouver z0\"\"\"\n",
    "    z0 = M.solve(r0) #solve() est une methode de l'objet `SuperLU`\n",
    "    d0 = z0\n",
    "    \n",
    "    err_rel = sp.linalg.norm(xexact-x)/ sp.linalg.norm(xexact)\n",
    "    res_rel = sp.linalg.norm(r0)/ sp.linalg.norm(r0)\n",
    "    \n",
    "    Err_rel = np.array([err_rel])\n",
    "    Res_rel = np.array([res_rel])\n",
    "    \n",
    "\n",
    "    r = r_init\n",
    "    z = z0\n",
    "    d = d0\n",
    "    #on pourra essayer pour while((res_rel > eps)and (cpt<n*n)) mais le résultat et pareil!\n",
    "    while ((res_rel > eps)and (cpt<n)):\n",
    "        \n",
    "        \"\"\"etape k\"\"\"\n",
    "        r_k = r #pour pouvoir l'utiliser ultérieurement en bas\n",
    "        z_k = z #pour pouvoir l'utiliser ultérieurement en bas\n",
    "        d_k = d #pour pouvoir l'utiliser ultérieurement en bas\n",
    "        \n",
    "        \"\"\"etape k+1\"\"\"\n",
    "        s = (r@z)/((A@d)@d)\n",
    "        x += s*d\n",
    "        \n",
    "        r -= s*A@d\n",
    "        #print(\"check\",sp.linalg.norm(r))\n",
    "        \n",
    "        \"\"\"trouver z\"\"\"\n",
    "        z = M.solve(r) #solve() est une methode de l'objet `SuperLU`\n",
    "        \n",
    "        beta = (r@z)/(r_k@z_k)\n",
    "        d = z + beta*d_k \n",
    "        \n",
    "        err_rel = sp.linalg.norm(xexact-x)/ sp.linalg.norm(xexact) \n",
    "        res_rel = sp.linalg.norm(r)/ sp.linalg.norm(r0)\n",
    "        #print(\"check\",sp.linalg.norm(r0))\n",
    "        \n",
    "        cpt+=1\n",
    "        #print(\"\\n------Solution pour k=\"+str(cpt)+\"------\\nx_\"+str(cpt)+\"=\\n\",x.T)\n",
    "        \n",
    "        Err_rel = np.append(Err_rel,err_rel)\n",
    "        Res_rel = np.append(Res_rel,res_rel)\n",
    "    print(\"\\n------Solution obtenue aprés k=\"+str(cpt)+\" iterations------\\n \\n\")\n",
    "   \n",
    "    return x,Err_rel,Res_rel"
   ]
  },
  {
   "cell_type": "markdown",
   "metadata": {},
   "source": [
    "## Question 10:"
   ]
  },
  {
   "cell_type": "code",
   "execution_count": 495,
   "metadata": {},
   "outputs": [],
   "source": [
    "\"\"\"test\"\"\"\n",
    "def gradient_conjugue_precond_test(d):\n",
    "    \n",
    "    n = d*d\n",
    "    B= spsp.diags([[4.]*n,[-1]*(n-1),[-1]*(n-1),[-1]*(n-d),[-1]*(n-d)],\n",
    "                  [0,1,-1,d,-d])\n",
    "    B = spsp.csc_matrix(B) #to.csr() n'a pas marché même dans le TP d'avant\n",
    "    b =  2*np.ones(n).astype(np.float64)\n",
    "    \"\"\"solution exacte scipy\"\"\"\n",
    "    xexact = np.array(spsolve(B,b))\n",
    "    M = spsp.linalg.splu(B)\n",
    "    \n",
    "    #print(xexact) \n",
    "    return M,B,b,xexact\n",
    "d=15\n",
    "#d=10\n",
    "#d=5\n",
    "M,B,b,xexact = gradient_conjugue_precond_test(d)\n",
    "A,b,xexact = gradient_conjugue_test(d)\n",
    "#print(\"\\nB=\\n\",B)\n",
    "#print(\"\\nM=\\n\",M)\n",
    "#print(\"\\n b=\\n\",b)\n",
    "#print(\"\\n xexact=\\n\",xexact)"
   ]
  },
  {
   "cell_type": "code",
   "execution_count": 491,
   "metadata": {},
   "outputs": [
    {
     "data": {
      "text/plain": [
       "225"
      ]
     },
     "execution_count": 491,
     "metadata": {},
     "output_type": "execute_result"
    }
   ],
   "source": [
    "15*15"
   ]
  },
  {
   "cell_type": "code",
   "execution_count": 492,
   "metadata": {},
   "outputs": [
    {
     "name": "stdout",
     "output_type": "stream",
     "text": [
      "\n",
      "------Solution obtenue aprés k=225 iterations------\n",
      " \n",
      "\n",
      "Wall time: 96.9 ms\n"
     ]
    }
   ],
   "source": [
    "%%time\n",
    "\"\"\"le gradient conjugué préconditionné ILU\"\"\"\n",
    "x,Err_rel_LU,Res_rel_LU = gradient_conjugue_precond(B,b,M,xexact,10**(-24))#pour avoir plus d'iteration pour la comparaison eps=10**-24"
   ]
  },
  {
   "cell_type": "code",
   "execution_count": 493,
   "metadata": {},
   "outputs": [
    {
     "name": "stdout",
     "output_type": "stream",
     "text": [
      "\n",
      "------Solution obtenue aprés k=225 iterations------\n",
      " \n",
      "\n",
      "Wall time: 92.9 ms\n"
     ]
    }
   ],
   "source": [
    "%%time\n",
    "\"\"\"le gradient conjugué sans préconditionnement\"\"\"\n",
    "x,Err_rel,Res_rel= gradient_conjugue(A,b,xexact)"
   ]
  },
  {
   "cell_type": "code",
   "execution_count": 494,
   "metadata": {},
   "outputs": [
    {
     "data": {
      "image/png": "[encoded data removed]",
      "text/plain": [
       "<Figure size 648x432 with 2 Axes>"
      ]
     },
     "metadata": {
      "needs_background": "light"
     },
     "output_type": "display_data"
    }
   ],
   "source": [
    "fig,ax = plt.subplots(2,1,figsize=(9,6),sharex=True);\n",
    "ax = plot_C(Err_rel_LU,Res_rel_LU,\"Grad_conj_precond pour n=\"+str(d*d),ax);\n",
    "plot_C(Err_rel,Res_rel,\"Grad_conj pour n=\"+str(d*d),ax);\n",
    "#ax[1].set_xlim(0,2);"
   ]
  },
  {
   "cell_type": "markdown",
   "metadata": {},
   "source": [
    "***Commentaire:***\n",
    "La convergeance est immédiate `1 itération` pour une matrice $\\mathbf M_{100,100}(\\mathbb R)$ rapidement `3ms` et avec une trés bonne précision. On a augmenté la précision histoire d'avoir plus d'iteration pour comparer les courbes en dessus.\n",
    "\n",
    "***Synthèse:***\n",
    "Pour un n assez grand on a les tableaux suivants:\n",
    "\n",
    "$$Pour: \\, \\, \\, n= 25$$\n",
    "$$\n",
    "\\begin{array}{|l|c|c|c|c|c|}\n",
    "\\hline\n",
    "\\text{Algorithme} & Gradient \\, Conjugue_{preconditionné ILU} \\,& Gradient \\,conjugue \\\\\n",
    "\\hline\n",
    "\\hline\n",
    "\\text{Précision } & 10^{-24}&10^{-4} \\\\\n",
    "\\hline\n",
    "\\text{Temps (ms)} & 20&17 \\\\\n",
    "\\hline\n",
    "\\end{array}\n",
    "$$\n",
    "\n",
    "$$Pour: \\, \\, \\, n= 100$$\n",
    "$$\n",
    "\\begin{array}{|l|c|c|c|c|c|}\n",
    "\\hline\n",
    "\\text{Algorithme} & Gradient \\, Conjugue_{preconditionné ILU} \\,& Gradient \\,conjugue \\\\\n",
    "\\hline\n",
    "\\hline\n",
    "\\text{Précision } & 10^{-24}&10^{-4} \\\\\n",
    "\\hline\n",
    "\\text{Temps (ms)} & 48&43 \\\\\n",
    "\\hline\n",
    "\\end{array}\n",
    "$$\n",
    "\n",
    "\n",
    "$$Pour: \\, \\, \\, n= 225$$\n",
    "$$\n",
    "\\begin{array}{|l|c|c|c|c|c|}\n",
    "\\hline\n",
    "\\text{Algorithme} & Gradient \\, Conjugue_{preconditionné ILU} \\,& Gradient \\,conjugue \\\\\n",
    "\\hline\n",
    "\\hline\n",
    "\\text{Précision } & 10^{-24}&10^{-4} \\\\\n",
    "\\hline\n",
    "\\text{Temps (ms)} & 92&95 \\\\\n",
    "\\hline\n",
    "\\end{array}\n",
    "$$"
   ]
  },
  {
   "cell_type": "markdown",
   "metadata": {},
   "source": [
    "***Conclusion:***\n",
    "* Pour quasiment le meme temps de calcule le `gradient conjugué preconditionné ILU` il fournie une précision remarquable.\n",
    "* Pour une précision comparable à celle `gradient conjugué` le`gradient conjugué preconditionné ILU` converge en une iteration et dans un temps de `3ms`.\n",
    "* Les deux methodes sont rapides puisqu'ils sont adapté avec les formats creuses."
   ]
  },
  {
   "cell_type": "code",
   "execution_count": null,
   "metadata": {},
   "outputs": [],
   "source": []
  }
 ],
 "metadata": {
  "kernelspec": {
   "display_name": "Python 3",
   "language": "python",
   "name": "python3"
  },
  "language_info": {
   "codemirror_mode": {
    "name": "ipython",
    "version": 3
   },
   "file_extension": ".py",
   "mimetype": "text/x-python",
   "name": "python",
   "nbconvert_exporter": "python",
   "pygments_lexer": "ipython3",
   "version": "3.7.4"
  }
 },
 "nbformat": 4,
 "nbformat_minor": 2
}
