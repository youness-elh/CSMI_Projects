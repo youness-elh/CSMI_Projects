{
 "cells": [
  {
   "cell_type": "code",
   "execution_count": 1,
   "metadata": {},
   "outputs": [],
   "source": [
    "import numpy as np\n",
    "import scipy as sp\n",
    "import scipy.sparse as spsp\n",
    "import scipy.sparse.linalg as spsplin\n",
    "import math\n",
    "from scipy.sparse.linalg import spsolve\n",
    "import pandas as pd\n",
    "import matplotlib.pyplot as plt\n",
    "\n",
    "np.set_printoptions(linewidth=400,precision=10,suppress=True)"
   ]
  },
  {
   "cell_type": "markdown",
   "metadata": {},
   "source": [
    "# Partie 1: Lanczos"
   ]
  },
  {
   "cell_type": "markdown",
   "metadata": {},
   "source": [
    "## Question 1: "
   ]
  },
  {
   "cell_type": "code",
   "execution_count": 2,
   "metadata": {},
   "outputs": [],
   "source": [
    "def iter_Arnoldi_sym(A,v,vold,beta):\n",
    "    assert A.shape[0]==v.size == vold.size\n",
    "    w = np.zeros_like(v)\n",
    "    w = A@v\n",
    "    alpha = w@v\n",
    "    w-=alpha*v + beta*vold\n",
    "    beta = np.linalg.norm(w)\n",
    "    vold[:] = v[:]\n",
    "    v[:] = w[:]/beta\n",
    "    return alpha, beta\n",
    " "
   ]
  },
  {
   "cell_type": "code",
   "execution_count": 3,
   "metadata": {},
   "outputs": [
    {
     "name": "stdout",
     "output_type": "stream",
     "text": [
      "alpha = \n",
      " 4.0\n",
      "beta = \n",
      " 1.0\n"
     ]
    }
   ],
   "source": [
    "\"\"\"test\"\"\"\n",
    "def Arnoldi_sym_test(n):\n",
    "    A = np.ones((n,n))\n",
    "    vold=np.ones(n)/np.sqrt(n)\n",
    "    v=np.ones(n)/np.sqrt(n)\n",
    "    beta = 1\n",
    "    alpha, beta = iter_Arnoldi_sym(A,v,vold,beta)\n",
    "    print(\"alpha = \\n\",alpha)\n",
    "    print(\"beta = \\n\",beta)\n",
    "    return alpha, beta\n",
    "    \n",
    "alpha, beta = Arnoldi_sym_test(4)"
   ]
  },
  {
   "cell_type": "markdown",
   "metadata": {},
   "source": [
    "## Question 2: "
   ]
  },
  {
   "cell_type": "code",
   "execution_count": 4,
   "metadata": {},
   "outputs": [],
   "source": [
    "def Lanczos(A,nbiter):\n",
    "    n = A.shape[0]\n",
    "    assert n >= nbiter\n",
    "    v = np.random.rand(n)\n",
    "    v = v/ np.linalg.norm(v)\n",
    "    vold = np.random.rand(n)\n",
    "    vold = vold/ np.linalg.norm(vold)\n",
    "    beta = 0\n",
    "    Tdiag =[]\n",
    "    Tdiagsup =[]\n",
    "    eigval = np.zeros((n,n)) #[] #autre alternative\n",
    "    for i in range(1,nbiter+1):\n",
    "        alpha,beta = iter_Arnoldi_sym(A,v,vold,beta)\n",
    "        Tdiag.append(alpha)\n",
    "        T = np.diag(Tdiag) +np.diag(Tdiagsup,1)+np.diag(Tdiagsup,-1)\n",
    "        Tdiagsup.append(beta)\n",
    "        eigval[i-1,0:i] =np.linalg.eig(T)[0][:] #eigval.append(np.linalg.eig(T)[0])\n",
    "        \n",
    "    return eigval"
   ]
  },
  {
   "cell_type": "markdown",
   "metadata": {},
   "source": [
    "# Question 3: "
   ]
  },
  {
   "cell_type": "code",
   "execution_count": 5,
   "metadata": {},
   "outputs": [],
   "source": [
    "\"\"\"test\"\"\"\n",
    "def A_csr(d):\n",
    "    n = d*d\n",
    "    A = spsp.diags([[4.]*n,[-1]*(n-1),[-1]*(n-1),[-1]*(n-d),[-1]*(n-d)],\n",
    "                   [0,1,-1,d,-d])\n",
    "    A = spsp.csc_matrix(A)\n",
    "    \n",
    "    return A"
   ]
  },
  {
   "cell_type": "code",
   "execution_count": 6,
   "metadata": {},
   "outputs": [],
   "source": [
    "\"\"\"stocker la matrice test en csr\"\"\"\n",
    "d = 2\n",
    "n = d*d\n",
    "A = A_csr(d)"
   ]
  },
  {
   "cell_type": "code",
   "execution_count": 7,
   "metadata": {},
   "outputs": [
    {
     "name": "stdout",
     "output_type": "stream",
     "text": [
      "Les valeur propre de l'algo: Lanczos =\n",
      "\n",
      " [1.4384471872 4.           5.5615528128 5.          ]\n",
      "Wall time: 1.01 s\n"
     ]
    }
   ],
   "source": [
    "%%time\n",
    "\"\"\"valeur propre par l'algo\"\"\"\n",
    "nbiter = n\n",
    "eigval = Lanczos(A,nbiter)\n",
    "\n",
    "print(\"Les valeur propre de l'algo: Lanczos =\\n\\n\",eigval[-1])"
   ]
  },
  {
   "cell_type": "code",
   "execution_count": 8,
   "metadata": {},
   "outputs": [],
   "source": [
    "A = A.toarray()"
   ]
  },
  {
   "cell_type": "code",
   "execution_count": 9,
   "metadata": {},
   "outputs": [
    {
     "name": "stdout",
     "output_type": "stream",
     "text": [
      "Les valeur propre de np.linalg.eig = \n",
      "\n",
      " [1.4384471872 4.           5.5615528128 5.          ]\n",
      "Wall time: 15.6 ms\n"
     ]
    }
   ],
   "source": [
    "%%time\n",
    "\"\"\"valeur propre par numpy\"\"\"\n",
    "valprop =  np.linalg.eig(A)[0]\n",
    "print(\"Les valeur propre de np.linalg.eig = \\n\\n\",valprop)"
   ]
  },
  {
   "cell_type": "markdown",
   "metadata": {},
   "source": [
    "***Commentaire:***\n",
    "\n",
    "$$Pour: \\, \\, \\, n= 4$$\n",
    "$$\n",
    "\\begin{array}{|l|c|c|}\n",
    "\\hline\n",
    "\\text{valeurs propres} & Lancsos \\,& Numpy \\\\\n",
    "\\hline\n",
    "\\text{Temps (ms)} & 3&1 \\\\\n",
    "\\hline\n",
    "\\end{array}\n",
    "$$\n",
    "\n",
    "$$Pour: \\, \\, \\, n= 100$$\n",
    "$$\n",
    "\\begin{array}{|l|c|c|}\n",
    "\\hline\n",
    "\\text{valeurs propres} & Lancsos \\,& Numpy \\\\\n",
    "\\hline\n",
    "\\text{Temps (ms)} & 1960&28 \\\\\n",
    "\\hline\n",
    "\\end{array}\n",
    "$$\n",
    "\n",
    "$$Pour: \\, \\, \\, n= 400$$\n",
    "$$\n",
    "\\begin{array}{|l|c|c|}\n",
    "\\hline\n",
    "\\text{valeurs propres} & Lancsos \\,& Numpy \\\\\n",
    "\\hline\n",
    "\\text{Temps (ms)} & 3600&206 \\\\\n",
    "\\hline\n",
    "\\end{array}\n",
    "$$\n",
    "\n",
    "On a estimé le temps de calcul pour différentes tailles de matrice test `A` et le calcul des valeurs propres par le module scipy est bien plus rapide que l'algorithme de `Lanczos` en prenant`nbiter = taille(A)`."
   ]
  },
  {
   "cell_type": "markdown",
   "metadata": {},
   "source": [
    "### Convergence de la valeur de Ritz (grande --> grande):"
   ]
  },
  {
   "cell_type": "code",
   "execution_count": 10,
   "metadata": {},
   "outputs": [],
   "source": [
    "def Ritz_max(A,nbiter):\n",
    "    eigval = Lanczos(A,nbiter)\n",
    "    \"\"\"calcul de la plus grand valeurs propre\"\"\"\n",
    "    maxval = np.max(eigval,axis=1)\n",
    "    return maxval"
   ]
  },
  {
   "cell_type": "code",
   "execution_count": 11,
   "metadata": {},
   "outputs": [],
   "source": [
    "\"\"\"valeur propres de Ritz\"\"\"\n",
    "d = 10\n",
    "nbiter = 40\n",
    "A = A_csr(d)\n",
    "maxval = Ritz_max(A,nbiter)\n",
    "\n",
    "\"\"\"plus grande valeur propre exacte \"\"\"\n",
    "maxval_exact = np.max(np.linalg.eig(A.toarray())[0])\n",
    "\n",
    "\"\"\"erreur de Ritz\"\"\"\n",
    "erreur_ritz_max = np.abs(maxval[0:nbiter]-maxval_exact)"
   ]
  },
  {
   "cell_type": "code",
   "execution_count": 12,
   "metadata": {},
   "outputs": [
    {
     "data": {
      "image/png": "[encoded data removed]",
      "text/plain": [
       "<Figure size 648x432 with 1 Axes>"
      ]
     },
     "metadata": {
      "needs_background": "light"
     },
     "output_type": "display_data"
    }
   ],
   "source": [
    "fig,ax = plt.subplots(1,figsize=(9,6),sharex=True)\n",
    "ax.set_title(r\"L'erreur de Ritz de la valeur propre maximal en echelle logarithmique\")\n",
    "ax.plot(erreur_ritz_max, \".-\",label=r'$|Maxeigval_{Laczos}-Maxval_{exact}|$');\n",
    "#ax.set_xscale(\"log\")\n",
    "ax.set_yscale(\"log\")\n",
    "ax.legend();"
   ]
  },
  {
   "cell_type": "markdown",
   "metadata": {},
   "source": [
    "### Convergence de la valeur de Ritz (petite --> petite):"
   ]
  },
  {
   "cell_type": "code",
   "execution_count": 13,
   "metadata": {},
   "outputs": [],
   "source": [
    "def Ritz_min(A,nbiter):\n",
    "    eigval = Lanczos(A,nbiter)\n",
    "    \"\"\"calcul de la plus grand valeurs propre\"\"\"\n",
    "    minval =[]\n",
    "    for i in range(1,nbiter+1):\n",
    "        minval.append(np.min(eigval[i-1,0:i]))\n",
    "\n",
    "    return minval"
   ]
  },
  {
   "cell_type": "code",
   "execution_count": 14,
   "metadata": {},
   "outputs": [],
   "source": [
    "\"\"\"valeur propres de Ritz\"\"\"\n",
    "d = 10\n",
    "nbiter = 40\n",
    "A = A_csr(d)\n",
    "minval = Ritz_min(A,nbiter)\n",
    "\n",
    "\"\"\"plus grande valeur propre exacte \"\"\"\n",
    "minval_exact = np.min(np.linalg.eig(A.toarray())[0])\n",
    "\n",
    "\"\"\"erreur de Ritz\"\"\"\n",
    "erreur_ritz_min = np.abs(minval[0:nbiter]-minval_exact)"
   ]
  },
  {
   "cell_type": "code",
   "execution_count": 15,
   "metadata": {},
   "outputs": [
    {
     "data": {
      "image/png": "[encoded data removed]",
      "text/plain": [
       "<Figure size 648x432 with 1 Axes>"
      ]
     },
     "metadata": {
      "needs_background": "light"
     },
     "output_type": "display_data"
    }
   ],
   "source": [
    "fig,ax = plt.subplots(1,figsize=(9,6),sharex=True)\n",
    "ax.set_title(r\"L'erreur de Ritz de la valeur propre minimale en echelle logarithmique\")\n",
    "ax.plot(erreur_ritz_min, \".-\",label=r'$|Mineigval_{Laczos}-Minval_{exact}|$');\n",
    "#ax.set_xscale(\"log\")\n",
    "ax.set_yscale(\"log\")\n",
    "ax.legend();"
   ]
  },
  {
   "cell_type": "markdown",
   "metadata": {},
   "source": [
    "***Commentaire:***\n",
    "Il y a convergence au bout de 40 itération. Alors on peut utiliser l'algo de Lanczos pour une estimation des valeurs propres sinon la methode donné par `numpy` est bien plus rapide."
   ]
  },
  {
   "cell_type": "markdown",
   "metadata": {},
   "source": [
    "### Conditionnement de A:"
   ]
  },
  {
   "cell_type": "code",
   "execution_count": 16,
   "metadata": {},
   "outputs": [
    {
     "name": "stdout",
     "output_type": "stream",
     "text": [
      "A est une matrice normale car symétrique :\t A.T = A\n"
     ]
    }
   ],
   "source": [
    "if (((A@A.T).toarray()).all() == ((A.T@A).toarray()).all()): print(\"A est une matrice normale car symétrique :\\t A.T = A\")"
   ]
  },
  {
   "cell_type": "markdown",
   "metadata": {},
   "source": [
    "---\n",
    "***Proposition:***\n",
    "\n",
    "Si A est une matrice normale c'est à dire : $$ A^*A = AA^* $$\n",
    "Alors le conditionnement $$Cond(A) = \\frac {\\lambda_{max}} {\\lambda_{min}}$$\n",
    "Donc le conditionnement de A peut être estimé à partir de $\\lambda_{max}$ et $\\lambda_{min}$ à l'itération `nbiter`$=40$.\n",
    "\n",
    "---"
   ]
  },
  {
   "cell_type": "code",
   "execution_count": 17,
   "metadata": {},
   "outputs": [
    {
     "name": "stdout",
     "output_type": "stream",
     "text": [
      "Cond(A) ~  93.2303856526045\n"
     ]
    }
   ],
   "source": [
    "print(\"Cond(A) ~ \",maxval[nbiter-1]/minval[nbiter-1])"
   ]
  },
  {
   "cell_type": "code",
   "execution_count": 19,
   "metadata": {},
   "outputs": [
    {
     "name": "stdout",
     "output_type": "stream",
     "text": [
      "le conditionnement de la matrice test est =\n",
      " 93.23038565291309\n"
     ]
    }
   ],
   "source": [
    "\"\"\"Numpy\"\"\"\n",
    "print(\"le conditionnement de la matrice test est =\\n\",np.linalg.cond(A.toarray()))"
   ]
  },
  {
   "cell_type": "markdown",
   "metadata": {},
   "source": [
    "***Commentaire:***\n",
    "Quasiment le même!!"
   ]
  },
  {
   "cell_type": "markdown",
   "metadata": {},
   "source": [
    "### Question 4: (facultative)"
   ]
  },
  {
   "cell_type": "markdown",
   "metadata": {},
   "source": [
    "Il faut poser `nbiter` = taille(A) = n pour pouvoir visualiser tous les valeurs propres."
   ]
  },
  {
   "cell_type": "markdown",
   "metadata": {},
   "source": [
    "### Question 5:"
   ]
  },
  {
   "cell_type": "code",
   "execution_count": 20,
   "metadata": {},
   "outputs": [],
   "source": [
    "\"\"\"definir L\"\"\"\n",
    "L = np.arange(0,2.01,0.01).astype(np.float64)\n",
    "L = np.concatenate((L,np.array([2.5,3.])))\n",
    "#print(\"L=\\n\",L)\n",
    "\"\"\"definir B\"\"\"\n",
    "B = spsp.diags(L,0,dtype=np.float64)\n",
    "#print(\"B=\\n\",B.toarray())"
   ]
  },
  {
   "cell_type": "code",
   "execution_count": 26,
   "metadata": {},
   "outputs": [],
   "source": [
    "def Ritz_fantom(B,nbiter):\n",
    "    eigval = Lanczos(B,nbiter)\n",
    "    \"\"\"calcul des valeurs fantomes\"\"\"\n",
    "    eigval = np.sort(eigval)\n",
    "    fantval = np.zeros((nbiter,2))\n",
    "    fantval = eigval[:nbiter,-2:]\n",
    "\n",
    "    return fantval"
   ]
  },
  {
   "cell_type": "code",
   "execution_count": 27,
   "metadata": {},
   "outputs": [],
   "source": [
    "fantomes = Ritz_fantom(B,nbiter)\n",
    "#print(\"valeurs fantomes d Ritz =\\n\",Ritz_fantom(B,nbiter))"
   ]
  },
  {
   "cell_type": "code",
   "execution_count": 28,
   "metadata": {},
   "outputs": [
    {
     "data": {
      "image/png": "[encoded data removed]",
      "text/plain": [
       "<Figure size 648x432 with 1 Axes>"
      ]
     },
     "metadata": {
      "needs_background": "light"
     },
     "output_type": "display_data"
    }
   ],
   "source": [
    "fig,ax = plt.subplots(1,figsize=(9,6))\n",
    "ax.set_title(r\"Les valeur propres fantomes de Ritz pour chaque iteration\")\n",
    "ax.plot(fantomes[:,0], \".-\",label=\"l'avant derniere plus grande valeur propre\");\n",
    "ax.plot(fantomes[:,1], \".-\",label=\"La plus grande valeur propre\");\n",
    "ax.set_ylabel('Valeur propre')\n",
    "ax.set_xlabel('Itération')\n",
    "ax.annotate('Phénomène des valeurs propres fantomes', xy=(34, 2.8), xytext=(20, 1.5), \n",
    "arrowprops={'facecolor':'black', 'shrink':0.05} )\n",
    "ax.legend();"
   ]
  },
  {
   "cell_type": "markdown",
   "metadata": {},
   "source": [
    "---\n",
    "***Commentaire:***\n",
    "\n",
    "Les valeurs propres attendus selon la matrice `B` sont `{3,2.5}` et non pas `{3,2.99}`!\n",
    "    \n",
    "A partir d'un certain nombre d'iterations, la la grande valeurs propre converge d'une manière stable alors que la convergence de l'avant plus grande valeur propre est suivi d'une perturbation. Cette perturbation appelé aussi phénomène des valeurs propres phantomes peut être évitée en arrétant le nombre d'itération bien avant `nbiter`$<40$. \n",
    "\n",
    "***Remarque:***\n",
    "\n",
    "Je ne suis pas sur mais la question facultative 4 nous donne une bonne stratégie d'éviter ce phénomène.\n",
    "\n",
    "---"
   ]
  },
  {
   "cell_type": "markdown",
   "metadata": {},
   "source": [
    "# Partie 2: Méthode QR"
   ]
  },
  {
   "cell_type": "markdown",
   "metadata": {},
   "source": [
    "Dans cette méthode, la matrice Q utilise des rotations de Givens. Chaque rotation annule un élément de la partie triangulaire inférieure stricte de la matrice, construisant la matrice R, tandis que la concaténation des rotations engendre la matrice Q.\n",
    "\n",
    "Dans ce TP en va implémenter une version applicable seulement sur les matrices Hessenberg."
   ]
  },
  {
   "cell_type": "markdown",
   "metadata": {},
   "source": [
    "## Question 6:"
   ]
  },
  {
   "cell_type": "markdown",
   "metadata": {},
   "source": [
    "***A noter:***\n",
    "\n",
    "* Nous rappelons que la k-ième étape consiste à annuler le coefficient $A[k + 1;k]$ en multipliant (à gauche) par une matrice de Givens.\n",
    "\n",
    "* A noter que la multiplication par la matrice $G_k$ consiste juste à faire une rotation sur les k et k+1-ième lignes.\n",
    "\n",
    "***Remarque:***\n",
    "Cette algorithme est juste seulement pour les matrices Hessenberg."
   ]
  },
  {
   "cell_type": "code",
   "execution_count": 170,
   "metadata": {},
   "outputs": [],
   "source": [
    "\"\"\"factorisation QR méthode de Givens\"\"\" \n",
    "###implémentation itérative pour une matrice type Hesenberg\n",
    " \n",
    "def c(k,R): \n",
    "    \"\"\"cosinus theta\"\"\" \n",
    "    return R[k,k]/np.sqrt(R[k,k]*R[k,k]+R[k+1,k]*R[k+1,k]) \n",
    "\n",
    "def s(k,R): \n",
    "    \"\"\"sinus theta\"\"\" \n",
    "    return R[k+1,k]/np.sqrt(R[k,k]*R[k,k]+R[k+1,k]*R[k+1,k]) \n",
    "\n",
    "def Givens(k,A): \n",
    "    \"\"\"Matrice de Givens à l'etape k\"\"\" \n",
    "    G=np.eye(len(A)) #identité \n",
    "    G[k,k]=-c(k,A) \n",
    "    G[k,k+1]=-s(k,A) \n",
    "    G[k+1,k]= s(k,A) \n",
    "    G[k+1,k+1]= -c(k,A) \n",
    "    return G \n",
    "\n",
    "def facto_QR_hessenberg(A):\n",
    "    \"\"\"calcule la transposée (donc l'inverse) du facteur Q\"\"\" \n",
    "    n=len(A)  \n",
    "    Q=np.eye(n) #identité\n",
    "    R = A.copy()\n",
    "    for k in range(0,n-1): #n-1 élément à annuler \n",
    "        Gk = Givens(k,R) #etape k\n",
    "        #print(\"check\",R)\n",
    "        Q=Gk@Q\n",
    "        R = Gk@R  \n",
    "    return R,Q \n",
    "    "
   ]
  },
  {
   "cell_type": "markdown",
   "metadata": {},
   "source": [
    "## Question 7:"
   ]
  },
  {
   "cell_type": "markdown",
   "metadata": {},
   "source": [
    "***Matrice Hessenberg exemple:***"
   ]
  },
  {
   "cell_type": "code",
   "execution_count": 171,
   "metadata": {},
   "outputs": [
    {
     "data": {
      "text/plain": [
       "array([[0.7057946218, 0.233390208 , 0.0546499671, 0.1852219688],\n",
       "       [0.9323211335, 0.9936941898, 0.7686845884, 0.9004074383],\n",
       "       [0.          , 0.8420226523, 0.6528529467, 0.7835346615],\n",
       "       [0.          , 0.          , 0.8344637789, 0.6164958085]])"
      ]
     },
     "execution_count": 171,
     "metadata": {},
     "output_type": "execute_result"
    }
   ],
   "source": [
    "n = 4\n",
    "A = np.triu([ np.random.rand(n),np.random.rand(n),np.random.rand(n),np.random.rand(n)], -1)\n",
    "A"
   ]
  },
  {
   "cell_type": "markdown",
   "metadata": {},
   "source": [
    "***Décomposition QR:***"
   ]
  },
  {
   "cell_type": "code",
   "execution_count": 172,
   "metadata": {},
   "outputs": [],
   "source": [
    "R,Q = facto_QR_hessenberg(A)"
   ]
  },
  {
   "cell_type": "code",
   "execution_count": 173,
   "metadata": {},
   "outputs": [
    {
     "name": "stdout",
     "output_type": "stream",
     "text": [
      "Q est une matrice normale=\n",
      "\n",
      " [[-0.6035809447 -0.7973017265  0.            0.          ]\n",
      " [ 0.3515795002 -0.2661560609 -0.8975259363  0.          ]\n",
      " [ 0.0762533202 -0.0577260145  0.0469883166 -0.9943064098]\n",
      " [ 0.7115246512 -0.5386451664  0.4384510142  0.1065587326]]\n",
      "\n",
      "R est triangulaire superieure=\n",
      "\n",
      " [[-1.1693454341 -0.9331439754 -0.6458592283 -0.8296928561]\n",
      " [ 0.           -0.938159688  -0.7713287062 -0.8777713305]\n",
      " [ 0.           -0.           -0.8392420794 -0.614021902 ]\n",
      " [ 0.           -0.            0.            0.0560244613]]\n"
     ]
    }
   ],
   "source": [
    "\"\"\"Affichage Q R et verification Q\"\"\"\n",
    "if( np.allclose(Q@Q.T,np.eye(len(A)))): print(\"Q est une matrice normale=\\n\\n\",Q)\n",
    "print(\"\\nR est triangulaire superieure=\\n\\n\",R)"
   ]
  },
  {
   "cell_type": "markdown",
   "metadata": {},
   "source": [
    "## Question 8:"
   ]
  },
  {
   "cell_type": "code",
   "execution_count": 190,
   "metadata": {},
   "outputs": [],
   "source": [
    "def QR_hessenberg(A,maxiteration):\n",
    "    Hj = A.copy()\n",
    "    for _ in range(0,maxiteration): #convergenance vers les valeurs propre \n",
    "        Qj,Rj = facto_QR_hessenberg(Hj)\n",
    "        Hj = Qj@Rj\n",
    "        #print(Hj)\n",
    "        valeurs = np.sort(np.abs(np.diag(Hj)))#extraire les valeurs propre en val absolue de la diagonale\n",
    "    return valeurs "
   ]
  },
  {
   "cell_type": "code",
   "execution_count": 191,
   "metadata": {},
   "outputs": [
    {
     "data": {
      "text/plain": [
       "array([0.0678803506, 0.3877496024, 0.8045474737, 1.9520375089])"
      ]
     },
     "execution_count": 191,
     "metadata": {},
     "output_type": "execute_result"
    }
   ],
   "source": [
    "maxiteration=2000\n",
    "QR_hessenberg(A,maxiteration)"
   ]
  },
  {
   "cell_type": "markdown",
   "metadata": {},
   "source": [
    "## Question 9:"
   ]
  },
  {
   "cell_type": "markdown",
   "metadata": {},
   "source": [
    "***Matrice symétrique tridiagonale:***"
   ]
  },
  {
   "cell_type": "code",
   "execution_count": 192,
   "metadata": {},
   "outputs": [
    {
     "data": {
      "text/plain": [
       "array([[0.4195893045, 0.1810150704, 0.          , 0.          ],\n",
       "       [0.1810150704, 0.0714187463, 0.365551977 , 0.          ],\n",
       "       [0.          , 0.365551977 , 0.4136189398, 0.5181403753],\n",
       "       [0.          , 0.          , 0.5181403753, 0.3396523252]])"
      ]
     },
     "execution_count": 192,
     "metadata": {},
     "output_type": "execute_result"
    }
   ],
   "source": [
    "n = 4\n",
    "d = 2 \n",
    "vec = np.random.rand(n-1)\n",
    "B= spsp.diags([np.random.rand(n),vec,vec],[0,1,-1])\n",
    "B = B.toarray() # car sp.linalg ne supporte pas diags\n",
    "B"
   ]
  },
  {
   "cell_type": "markdown",
   "metadata": {},
   "source": [
    "***Vecteurs propres selon le module \"sp.linalg\":***"
   ]
  },
  {
   "cell_type": "code",
   "execution_count": 193,
   "metadata": {},
   "outputs": [
    {
     "data": {
      "text/plain": [
       "array([ 0.9854344756+0.j,  0.4863314186+0.j,  0.1141317085+0.j, -0.3416182869+0.j])"
      ]
     },
     "execution_count": 193,
     "metadata": {},
     "output_type": "execute_result"
    }
   ],
   "source": [
    "valeurs,vecteurs = sp.linalg.eig(B) # cette methode donne la forme complex\n",
    "valeurs"
   ]
  },
  {
   "cell_type": "code",
   "execution_count": 196,
   "metadata": {},
   "outputs": [
    {
     "data": {
      "text/plain": [
       "array([0.1141317085, 0.3416182869, 0.4863314186, 0.9854344756])"
      ]
     },
     "execution_count": 196,
     "metadata": {},
     "output_type": "execute_result"
    }
   ],
   "source": [
    "valeurs,vecteurs = sp.linalg.eigh(B) # cette methode donne la parie réelle\n",
    "valeurs_eigh = np.sort(np.abs(valeurs))\n",
    "valeurs_eigh"
   ]
  },
  {
   "cell_type": "markdown",
   "metadata": {},
   "source": [
    "***Maintenant on compare avec l'algo QR_hessenberg:***"
   ]
  },
  {
   "cell_type": "code",
   "execution_count": 197,
   "metadata": {},
   "outputs": [
    {
     "data": {
      "text/plain": [
       "array([0.1234168745, 0.239814661 , 0.4042999251, 0.9712513998])"
      ]
     },
     "execution_count": 197,
     "metadata": {},
     "output_type": "execute_result"
    }
   ],
   "source": [
    "maxiteration=2000\n",
    "QR_hessenberg(B,maxiteration)"
   ]
  },
  {
   "cell_type": "markdown",
   "metadata": {},
   "source": [
    "***Pour une matrice Hessenberg quelconque:***\n",
    "On doit rajouter un critere d'arret sur tous les elements en dessous de la diagonale. Donc le résultat ne sera pas bon."
   ]
  },
  {
   "cell_type": "markdown",
   "metadata": {},
   "source": [
    "***Commentair:***\n",
    "    \n",
    "Pour une matrice tridiagonale les valeurs propres en valeurs absolue sont identique comme montré dans l'exemple en dessus."
   ]
  },
  {
   "cell_type": "markdown",
   "metadata": {},
   "source": [
    "## Question 10:"
   ]
  },
  {
   "cell_type": "code",
   "execution_count": 209,
   "metadata": {},
   "outputs": [],
   "source": [
    "maxiteration = 2000\n",
    "def Lanczos_QR(A,nbiter):\n",
    "    n = A.shape[0]\n",
    "    assert n >= nbiter\n",
    "    v = np.random.rand(n)\n",
    "    v = v/ np.linalg.norm(v)\n",
    "    vold = np.random.rand(n)\n",
    "    vold = vold/ np.linalg.norm(vold)\n",
    "    beta = 0\n",
    "    Tdiag =[]\n",
    "    Tdiagsup =[]\n",
    "    eigval = np.zeros((n,n)) #[] #autre alternative\n",
    "    for i in range(1,nbiter+1):\n",
    "        alpha,beta = iter_Arnoldi_sym(A,v,vold,beta)\n",
    "        Tdiag.append(alpha)\n",
    "        T = np.diag(Tdiag) +np.diag(Tdiagsup,1)+np.diag(Tdiagsup,-1)\n",
    "        Tdiagsup.append(beta)\n",
    "        eigval[i-1,0:i] =QR_hessenberg(T,maxiteration)[0] #eigval.append(np.linalg.eig(T)[0])\n",
    "        \n",
    "    return eigval"
   ]
  },
  {
   "cell_type": "code",
   "execution_count": 210,
   "metadata": {},
   "outputs": [
    {
     "data": {
      "text/plain": [
       "array([[0.5609999716, 0.          , 0.          , 0.          ],\n",
       "       [0.0269309656, 0.0269309656, 0.          , 0.          ],\n",
       "       [0.3317242887, 0.3317242887, 0.3317242887, 0.          ],\n",
       "       [0.          , 0.          , 0.          , 0.          ]])"
      ]
     },
     "execution_count": 210,
     "metadata": {},
     "output_type": "execute_result"
    }
   ],
   "source": [
    "\"\"\"test\"\"\"\n",
    "Lanczos_QR(B,len(B)-1)"
   ]
  },
  {
   "cell_type": "markdown",
   "metadata": {},
   "source": [
    "***Commentaire:***\n",
    "je n'ai pas eu le temps pour aller au bout des verifications des calculs."
   ]
  },
  {
   "cell_type": "code",
   "execution_count": null,
   "metadata": {},
   "outputs": [],
   "source": []
  }
 ],
 "metadata": {
  "kernelspec": {
   "display_name": "Python 3",
   "language": "python",
   "name": "python3"
  },
  "language_info": {
   "codemirror_mode": {
    "name": "ipython",
    "version": 3
   },
   "file_extension": ".py",
   "mimetype": "text/x-python",
   "name": "python",
   "nbconvert_exporter": "python",
   "pygments_lexer": "ipython3",
   "version": "3.7.1"
  }
 },
 "nbformat": 4,
 "nbformat_minor": 2
}
